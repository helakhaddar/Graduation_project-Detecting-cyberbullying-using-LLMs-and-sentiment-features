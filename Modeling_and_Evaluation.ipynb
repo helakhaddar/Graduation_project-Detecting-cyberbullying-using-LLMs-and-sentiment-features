{
  "cells": [
    {
      "cell_type": "markdown",
      "metadata": {
        "id": "view-in-github",
        "colab_type": "text"
      },
      "source": [
        "<a href=\"https://colab.research.google.com/github/helakhaddar/Graduation_project-Detecting-cyberbullying-using-LLMs-and-sentiment-features/blob/main/Modeling_and_Evaluation.ipynb\" target=\"_parent\"><img src=\"https://colab.research.google.com/assets/colab-badge.svg\" alt=\"Open In Colab\"/></a>"
      ]
    },
    {
      "cell_type": "markdown",
      "metadata": {
        "id": "xU4IT1JXJr4r"
      },
      "source": [
        "## drive and librairies"
      ]
    },
    {
      "cell_type": "code",
      "execution_count": null,
      "metadata": {
        "colab": {
          "base_uri": "https://localhost:8080/"
        },
        "id": "wOhxd0iujC7K",
        "outputId": "bfa2ddf4-0cf5-4f3d-eb91-f1f3ee34bf8e"
      },
      "outputs": [
        {
          "output_type": "stream",
          "name": "stdout",
          "text": [
            "Mounted at /content/drive\n"
          ]
        }
      ],
      "source": [
        "from google.colab import drive\n",
        "drive.mount(\"/content/drive\")"
      ]
    },
    {
      "cell_type": "markdown",
      "source": [
        "### Useful functions"
      ],
      "metadata": {
        "id": "Wfmc2SjsRD8T"
      }
    },
    {
      "cell_type": "code",
      "source": [
        "def plot_label_distribution(df, label_column='label'):\n",
        "    # Map the label column\n",
        "    df['label'] = df[label_column].map({0: 'Non-cyberbullying', 1: 'Bullying'})\n",
        "\n",
        "    # Plotting the distribution\n",
        "    plt.figure(figsize=(6, 4))\n",
        "    df['label'].value_counts().plot(kind='bar', color=['blue', 'red'])\n",
        "    plt.title('Distribution of Cyberbullying Labels')\n",
        "    plt.xlabel('Label')\n",
        "    plt.ylabel('Count')\n",
        "    plt.xticks(rotation=0)\n",
        "    plt.show()\n",
        "\n",
        "def plot_distribution_sentimentlabel(df):\n",
        "\n",
        "  plt.figure(figsize=(3, 3))\n",
        "  df['Sentiment'].value_counts().plot(kind='bar', color=['blue', 'red'])\n",
        "  plt.title('Distribution of sentiment Labels ')\n",
        "  plt.xlabel('sentiment')\n",
        "  plt.ylabel('Count')\n",
        "  plt.xticks(rotation=0)\n",
        "  plt.show()\n",
        "\n",
        "def plot_relation_sent_label(df):\n",
        "  sent_label_cross = pd.crosstab(df['Sentiment'], df['label'])\n",
        "  sent_label_cross['sum'] = sent_label_cross[0.0] + sent_label_cross[1.0]\n",
        "  sent_label_cross['non bullying tweet %'] = sent_label_cross[0.0]/sent_label_cross['sum']*100\n",
        "  sent_label_cross['bullying tweet %'] = sent_label_cross[1.0]/sent_label_cross['sum']*100\n",
        "  sent_label_cross = sent_label_cross.drop([0.0, 1.0, 'sum'], axis=1)\n",
        "\n",
        "  ax = sent_label_cross.plot(kind='bar', stacked=True, figsize=(6, 4), color=['#6dd2ac', '#3487a5'], width=0.8)\n",
        "  plt.xlabel('Sentiment')\n",
        "  plt.ylabel('percentage %')\n",
        "  plt.title('Relation between sentiment and bullying')\n",
        "  ax.legend(loc='lower right')\n",
        "  plt.show()"
      ],
      "metadata": {
        "id": "pN33kM-7_7QF"
      },
      "execution_count": null,
      "outputs": []
    },
    {
      "cell_type": "markdown",
      "source": [
        "### Importing librairies"
      ],
      "metadata": {
        "id": "9Ap_Q4FoRMW4"
      }
    },
    {
      "cell_type": "code",
      "execution_count": null,
      "metadata": {
        "colab": {
          "base_uri": "https://localhost:8080/"
        },
        "id": "pqKnWtdR7Th2",
        "outputId": "46b7c884-73b2-4f31-a6ed-a569f683c1b6"
      },
      "outputs": [
        {
          "output_type": "stream",
          "name": "stdout",
          "text": [
            "Collecting tensorflow==2.15.0\n",
            "  Downloading tensorflow-2.15.0-cp310-cp310-manylinux_2_17_x86_64.manylinux2014_x86_64.whl.metadata (4.4 kB)\n",
            "Requirement already satisfied: absl-py>=1.0.0 in /usr/local/lib/python3.10/dist-packages (from tensorflow==2.15.0) (1.4.0)\n",
            "Requirement already satisfied: astunparse>=1.6.0 in /usr/local/lib/python3.10/dist-packages (from tensorflow==2.15.0) (1.6.3)\n",
            "Requirement already satisfied: flatbuffers>=23.5.26 in /usr/local/lib/python3.10/dist-packages (from tensorflow==2.15.0) (24.3.25)\n",
            "Requirement already satisfied: gast!=0.5.0,!=0.5.1,!=0.5.2,>=0.2.1 in /usr/local/lib/python3.10/dist-packages (from tensorflow==2.15.0) (0.6.0)\n",
            "Requirement already satisfied: google-pasta>=0.1.1 in /usr/local/lib/python3.10/dist-packages (from tensorflow==2.15.0) (0.2.0)\n",
            "Requirement already satisfied: h5py>=2.9.0 in /usr/local/lib/python3.10/dist-packages (from tensorflow==2.15.0) (3.11.0)\n",
            "Requirement already satisfied: libclang>=13.0.0 in /usr/local/lib/python3.10/dist-packages (from tensorflow==2.15.0) (18.1.1)\n",
            "Collecting ml-dtypes~=0.2.0 (from tensorflow==2.15.0)\n",
            "  Downloading ml_dtypes-0.2.0-cp310-cp310-manylinux_2_17_x86_64.manylinux2014_x86_64.whl.metadata (20 kB)\n",
            "Requirement already satisfied: numpy<2.0.0,>=1.23.5 in /usr/local/lib/python3.10/dist-packages (from tensorflow==2.15.0) (1.26.4)\n",
            "Requirement already satisfied: opt-einsum>=2.3.2 in /usr/local/lib/python3.10/dist-packages (from tensorflow==2.15.0) (3.3.0)\n",
            "Requirement already satisfied: packaging in /usr/local/lib/python3.10/dist-packages (from tensorflow==2.15.0) (24.1)\n",
            "Requirement already satisfied: protobuf!=4.21.0,!=4.21.1,!=4.21.2,!=4.21.3,!=4.21.4,!=4.21.5,<5.0.0dev,>=3.20.3 in /usr/local/lib/python3.10/dist-packages (from tensorflow==2.15.0) (3.20.3)\n",
            "Requirement already satisfied: setuptools in /usr/local/lib/python3.10/dist-packages (from tensorflow==2.15.0) (71.0.4)\n",
            "Requirement already satisfied: six>=1.12.0 in /usr/local/lib/python3.10/dist-packages (from tensorflow==2.15.0) (1.16.0)\n",
            "Requirement already satisfied: termcolor>=1.1.0 in /usr/local/lib/python3.10/dist-packages (from tensorflow==2.15.0) (2.4.0)\n",
            "Requirement already satisfied: typing-extensions>=3.6.6 in /usr/local/lib/python3.10/dist-packages (from tensorflow==2.15.0) (4.12.2)\n",
            "Collecting wrapt<1.15,>=1.11.0 (from tensorflow==2.15.0)\n",
            "  Downloading wrapt-1.14.1-cp310-cp310-manylinux_2_5_x86_64.manylinux1_x86_64.manylinux_2_17_x86_64.manylinux2014_x86_64.whl.metadata (6.7 kB)\n",
            "Requirement already satisfied: tensorflow-io-gcs-filesystem>=0.23.1 in /usr/local/lib/python3.10/dist-packages (from tensorflow==2.15.0) (0.37.1)\n",
            "Requirement already satisfied: grpcio<2.0,>=1.24.3 in /usr/local/lib/python3.10/dist-packages (from tensorflow==2.15.0) (1.64.1)\n",
            "Collecting tensorboard<2.16,>=2.15 (from tensorflow==2.15.0)\n",
            "  Downloading tensorboard-2.15.2-py3-none-any.whl.metadata (1.7 kB)\n",
            "Collecting tensorflow-estimator<2.16,>=2.15.0 (from tensorflow==2.15.0)\n",
            "  Downloading tensorflow_estimator-2.15.0-py2.py3-none-any.whl.metadata (1.3 kB)\n",
            "Collecting keras<2.16,>=2.15.0 (from tensorflow==2.15.0)\n",
            "  Downloading keras-2.15.0-py3-none-any.whl.metadata (2.4 kB)\n",
            "Requirement already satisfied: wheel<1.0,>=0.23.0 in /usr/local/lib/python3.10/dist-packages (from astunparse>=1.6.0->tensorflow==2.15.0) (0.44.0)\n",
            "Requirement already satisfied: google-auth<3,>=1.6.3 in /usr/local/lib/python3.10/dist-packages (from tensorboard<2.16,>=2.15->tensorflow==2.15.0) (2.27.0)\n",
            "Requirement already satisfied: google-auth-oauthlib<2,>=0.5 in /usr/local/lib/python3.10/dist-packages (from tensorboard<2.16,>=2.15->tensorflow==2.15.0) (1.2.1)\n",
            "Requirement already satisfied: markdown>=2.6.8 in /usr/local/lib/python3.10/dist-packages (from tensorboard<2.16,>=2.15->tensorflow==2.15.0) (3.6)\n",
            "Requirement already satisfied: requests<3,>=2.21.0 in /usr/local/lib/python3.10/dist-packages (from tensorboard<2.16,>=2.15->tensorflow==2.15.0) (2.32.3)\n",
            "Requirement already satisfied: tensorboard-data-server<0.8.0,>=0.7.0 in /usr/local/lib/python3.10/dist-packages (from tensorboard<2.16,>=2.15->tensorflow==2.15.0) (0.7.2)\n",
            "Requirement already satisfied: werkzeug>=1.0.1 in /usr/local/lib/python3.10/dist-packages (from tensorboard<2.16,>=2.15->tensorflow==2.15.0) (3.0.3)\n",
            "Requirement already satisfied: cachetools<6.0,>=2.0.0 in /usr/local/lib/python3.10/dist-packages (from google-auth<3,>=1.6.3->tensorboard<2.16,>=2.15->tensorflow==2.15.0) (5.4.0)\n",
            "Requirement already satisfied: pyasn1-modules>=0.2.1 in /usr/local/lib/python3.10/dist-packages (from google-auth<3,>=1.6.3->tensorboard<2.16,>=2.15->tensorflow==2.15.0) (0.4.0)\n",
            "Requirement already satisfied: rsa<5,>=3.1.4 in /usr/local/lib/python3.10/dist-packages (from google-auth<3,>=1.6.3->tensorboard<2.16,>=2.15->tensorflow==2.15.0) (4.9)\n",
            "Requirement already satisfied: requests-oauthlib>=0.7.0 in /usr/local/lib/python3.10/dist-packages (from google-auth-oauthlib<2,>=0.5->tensorboard<2.16,>=2.15->tensorflow==2.15.0) (1.3.1)\n",
            "Requirement already satisfied: charset-normalizer<4,>=2 in /usr/local/lib/python3.10/dist-packages (from requests<3,>=2.21.0->tensorboard<2.16,>=2.15->tensorflow==2.15.0) (3.3.2)\n",
            "Requirement already satisfied: idna<4,>=2.5 in /usr/local/lib/python3.10/dist-packages (from requests<3,>=2.21.0->tensorboard<2.16,>=2.15->tensorflow==2.15.0) (3.7)\n",
            "Requirement already satisfied: urllib3<3,>=1.21.1 in /usr/local/lib/python3.10/dist-packages (from requests<3,>=2.21.0->tensorboard<2.16,>=2.15->tensorflow==2.15.0) (2.0.7)\n",
            "Requirement already satisfied: certifi>=2017.4.17 in /usr/local/lib/python3.10/dist-packages (from requests<3,>=2.21.0->tensorboard<2.16,>=2.15->tensorflow==2.15.0) (2024.7.4)\n",
            "Requirement already satisfied: MarkupSafe>=2.1.1 in /usr/local/lib/python3.10/dist-packages (from werkzeug>=1.0.1->tensorboard<2.16,>=2.15->tensorflow==2.15.0) (2.1.5)\n",
            "Requirement already satisfied: pyasn1<0.7.0,>=0.4.6 in /usr/local/lib/python3.10/dist-packages (from pyasn1-modules>=0.2.1->google-auth<3,>=1.6.3->tensorboard<2.16,>=2.15->tensorflow==2.15.0) (0.6.0)\n",
            "Requirement already satisfied: oauthlib>=3.0.0 in /usr/local/lib/python3.10/dist-packages (from requests-oauthlib>=0.7.0->google-auth-oauthlib<2,>=0.5->tensorboard<2.16,>=2.15->tensorflow==2.15.0) (3.2.2)\n",
            "Downloading tensorflow-2.15.0-cp310-cp310-manylinux_2_17_x86_64.manylinux2014_x86_64.whl (475.2 MB)\n",
            "\u001b[2K   \u001b[90m━━━━━━━━━━━━━━━━━━━━━━━━━━━━━━━━━━━━━━━━\u001b[0m \u001b[32m475.2/475.2 MB\u001b[0m \u001b[31m2.3 MB/s\u001b[0m eta \u001b[36m0:00:00\u001b[0m\n",
            "\u001b[?25hDownloading keras-2.15.0-py3-none-any.whl (1.7 MB)\n",
            "\u001b[2K   \u001b[90m━━━━━━━━━━━━━━━━━━━━━━━━━━━━━━━━━━━━━━━━\u001b[0m \u001b[32m1.7/1.7 MB\u001b[0m \u001b[31m72.3 MB/s\u001b[0m eta \u001b[36m0:00:00\u001b[0m\n",
            "\u001b[?25hDownloading ml_dtypes-0.2.0-cp310-cp310-manylinux_2_17_x86_64.manylinux2014_x86_64.whl (1.0 MB)\n",
            "\u001b[2K   \u001b[90m━━━━━━━━━━━━━━━━━━━━━━━━━━━━━━━━━━━━━━━━\u001b[0m \u001b[32m1.0/1.0 MB\u001b[0m \u001b[31m40.1 MB/s\u001b[0m eta \u001b[36m0:00:00\u001b[0m\n",
            "\u001b[?25hDownloading tensorboard-2.15.2-py3-none-any.whl (5.5 MB)\n",
            "\u001b[2K   \u001b[90m━━━━━━━━━━━━━━━━━━━━━━━━━━━━━━━━━━━━━━━━\u001b[0m \u001b[32m5.5/5.5 MB\u001b[0m \u001b[31m63.5 MB/s\u001b[0m eta \u001b[36m0:00:00\u001b[0m\n",
            "\u001b[?25hDownloading tensorflow_estimator-2.15.0-py2.py3-none-any.whl (441 kB)\n",
            "\u001b[2K   \u001b[90m━━━━━━━━━━━━━━━━━━━━━━━━━━━━━━━━━━━━━━━━\u001b[0m \u001b[32m442.0/442.0 kB\u001b[0m \u001b[31m32.1 MB/s\u001b[0m eta \u001b[36m0:00:00\u001b[0m\n",
            "\u001b[?25hDownloading wrapt-1.14.1-cp310-cp310-manylinux_2_5_x86_64.manylinux1_x86_64.manylinux_2_17_x86_64.manylinux2014_x86_64.whl (77 kB)\n",
            "\u001b[2K   \u001b[90m━━━━━━━━━━━━━━━━━━━━━━━━━━━━━━━━━━━━━━━━\u001b[0m \u001b[32m77.9/77.9 kB\u001b[0m \u001b[31m6.4 MB/s\u001b[0m eta \u001b[36m0:00:00\u001b[0m\n",
            "\u001b[?25hInstalling collected packages: wrapt, tensorflow-estimator, ml-dtypes, keras, tensorboard, tensorflow\n",
            "  Attempting uninstall: wrapt\n",
            "    Found existing installation: wrapt 1.16.0\n",
            "    Uninstalling wrapt-1.16.0:\n",
            "      Successfully uninstalled wrapt-1.16.0\n",
            "  Attempting uninstall: ml-dtypes\n",
            "    Found existing installation: ml-dtypes 0.4.0\n",
            "    Uninstalling ml-dtypes-0.4.0:\n",
            "      Successfully uninstalled ml-dtypes-0.4.0\n",
            "  Attempting uninstall: keras\n",
            "    Found existing installation: keras 3.4.1\n",
            "    Uninstalling keras-3.4.1:\n",
            "      Successfully uninstalled keras-3.4.1\n",
            "  Attempting uninstall: tensorboard\n",
            "    Found existing installation: tensorboard 2.17.0\n",
            "    Uninstalling tensorboard-2.17.0:\n",
            "      Successfully uninstalled tensorboard-2.17.0\n",
            "  Attempting uninstall: tensorflow\n",
            "    Found existing installation: tensorflow 2.17.0\n",
            "    Uninstalling tensorflow-2.17.0:\n",
            "      Successfully uninstalled tensorflow-2.17.0\n",
            "\u001b[31mERROR: pip's dependency resolver does not currently take into account all the packages that are installed. This behaviour is the source of the following dependency conflicts.\n",
            "tensorstore 0.1.64 requires ml-dtypes>=0.3.1, but you have ml-dtypes 0.2.0 which is incompatible.\n",
            "tf-keras 2.17.0 requires tensorflow<2.18,>=2.17, but you have tensorflow 2.15.0 which is incompatible.\u001b[0m\u001b[31m\n",
            "\u001b[0mSuccessfully installed keras-2.15.0 ml-dtypes-0.2.0 tensorboard-2.15.2 tensorflow-2.15.0 tensorflow-estimator-2.15.0 wrapt-1.14.1\n"
          ]
        }
      ],
      "source": [
        "!pip install tensorflow==2.15.0"
      ]
    },
    {
      "cell_type": "code",
      "execution_count": null,
      "metadata": {
        "colab": {
          "base_uri": "https://localhost:8080/"
        },
        "id": "UoxrG3FhswGc",
        "outputId": "7bb2999b-ecb9-4dfa-84da-68d13c050b33"
      },
      "outputs": [
        {
          "output_type": "stream",
          "name": "stdout",
          "text": [
            "Collecting transformers==4.30.0\n",
            "  Downloading transformers-4.30.0-py3-none-any.whl.metadata (113 kB)\n",
            "\u001b[?25l     \u001b[90m━━━━━━━━━━━━━━━━━━━━━━━━━━━━━━━━━━━━━━━━\u001b[0m \u001b[32m0.0/113.6 kB\u001b[0m \u001b[31m?\u001b[0m eta \u001b[36m-:--:--\u001b[0m\r\u001b[2K     \u001b[90m━━━━━━━━━━━━━━━━━━━━━━━━━━━━━━━━━━━━━━━━\u001b[0m \u001b[32m113.6/113.6 kB\u001b[0m \u001b[31m7.7 MB/s\u001b[0m eta \u001b[36m0:00:00\u001b[0m\n",
            "\u001b[?25hRequirement already satisfied: filelock in /usr/local/lib/python3.10/dist-packages (from transformers==4.30.0) (3.15.4)\n",
            "Requirement already satisfied: huggingface-hub<1.0,>=0.14.1 in /usr/local/lib/python3.10/dist-packages (from transformers==4.30.0) (0.23.5)\n",
            "Requirement already satisfied: numpy>=1.17 in /usr/local/lib/python3.10/dist-packages (from transformers==4.30.0) (1.26.4)\n",
            "Requirement already satisfied: packaging>=20.0 in /usr/local/lib/python3.10/dist-packages (from transformers==4.30.0) (24.1)\n",
            "Requirement already satisfied: pyyaml>=5.1 in /usr/local/lib/python3.10/dist-packages (from transformers==4.30.0) (6.0.2)\n",
            "Requirement already satisfied: regex!=2019.12.17 in /usr/local/lib/python3.10/dist-packages (from transformers==4.30.0) (2024.5.15)\n",
            "Requirement already satisfied: requests in /usr/local/lib/python3.10/dist-packages (from transformers==4.30.0) (2.32.3)\n",
            "Collecting tokenizers!=0.11.3,<0.14,>=0.11.1 (from transformers==4.30.0)\n",
            "  Downloading tokenizers-0.13.3-cp310-cp310-manylinux_2_17_x86_64.manylinux2014_x86_64.whl.metadata (6.7 kB)\n",
            "Requirement already satisfied: safetensors>=0.3.1 in /usr/local/lib/python3.10/dist-packages (from transformers==4.30.0) (0.4.4)\n",
            "Requirement already satisfied: tqdm>=4.27 in /usr/local/lib/python3.10/dist-packages (from transformers==4.30.0) (4.66.5)\n",
            "Requirement already satisfied: fsspec>=2023.5.0 in /usr/local/lib/python3.10/dist-packages (from huggingface-hub<1.0,>=0.14.1->transformers==4.30.0) (2024.6.1)\n",
            "Requirement already satisfied: typing-extensions>=3.7.4.3 in /usr/local/lib/python3.10/dist-packages (from huggingface-hub<1.0,>=0.14.1->transformers==4.30.0) (4.12.2)\n",
            "Requirement already satisfied: charset-normalizer<4,>=2 in /usr/local/lib/python3.10/dist-packages (from requests->transformers==4.30.0) (3.3.2)\n",
            "Requirement already satisfied: idna<4,>=2.5 in /usr/local/lib/python3.10/dist-packages (from requests->transformers==4.30.0) (3.7)\n",
            "Requirement already satisfied: urllib3<3,>=1.21.1 in /usr/local/lib/python3.10/dist-packages (from requests->transformers==4.30.0) (2.0.7)\n",
            "Requirement already satisfied: certifi>=2017.4.17 in /usr/local/lib/python3.10/dist-packages (from requests->transformers==4.30.0) (2024.7.4)\n",
            "Downloading transformers-4.30.0-py3-none-any.whl (7.2 MB)\n",
            "\u001b[2K   \u001b[90m━━━━━━━━━━━━━━━━━━━━━━━━━━━━━━━━━━━━━━━━\u001b[0m \u001b[32m7.2/7.2 MB\u001b[0m \u001b[31m102.1 MB/s\u001b[0m eta \u001b[36m0:00:00\u001b[0m\n",
            "\u001b[?25hDownloading tokenizers-0.13.3-cp310-cp310-manylinux_2_17_x86_64.manylinux2014_x86_64.whl (7.8 MB)\n",
            "\u001b[2K   \u001b[90m━━━━━━━━━━━━━━━━━━━━━━━━━━━━━━━━━━━━━━━━\u001b[0m \u001b[32m7.8/7.8 MB\u001b[0m \u001b[31m111.1 MB/s\u001b[0m eta \u001b[36m0:00:00\u001b[0m\n",
            "\u001b[?25hInstalling collected packages: tokenizers, transformers\n",
            "  Attempting uninstall: tokenizers\n",
            "    Found existing installation: tokenizers 0.19.1\n",
            "    Uninstalling tokenizers-0.19.1:\n",
            "      Successfully uninstalled tokenizers-0.19.1\n",
            "  Attempting uninstall: transformers\n",
            "    Found existing installation: transformers 4.42.4\n",
            "    Uninstalling transformers-4.42.4:\n",
            "      Successfully uninstalled transformers-4.42.4\n",
            "Successfully installed tokenizers-0.13.3 transformers-4.30.0\n"
          ]
        }
      ],
      "source": [
        "!pip install transformers==4.30.0"
      ]
    },
    {
      "cell_type": "code",
      "execution_count": null,
      "metadata": {
        "id": "KDmBbqw4iVAp"
      },
      "outputs": [],
      "source": [
        "# Loading Dependencies\n",
        "import os\n",
        "import pandas as pd\n",
        "import numpy as np\n",
        "import matplotlib.pyplot as plt\n",
        "import seaborn as sns\n",
        "from tqdm import tqdm\n",
        "\n",
        "# Data preprocessing\n",
        "from sklearn import preprocessing\n",
        "from sklearn.model_selection import train_test_split\n",
        "from imblearn.over_sampling import RandomOverSampler\n",
        "\n",
        "import tensorflow as tf\n",
        "from tensorflow.keras.layers import Dense, Input\n",
        "from tensorflow.keras.optimizers import Adam\n",
        "from tensorflow.keras.models import Model\n",
        "from tensorflow.keras.callbacks import ModelCheckpoint\n",
        "import transformers\n",
        "from transformers import TFBertModel, AutoTokenizer, DistilBertTokenizer\n",
        "from tqdm.notebook import tqdm\n",
        "from tokenizers import BertWordPieceTokenizer\n",
        "from tokenizers import Tokenizer, models, pre_tokenizers, decoders, processors"
      ]
    },
    {
      "cell_type": "markdown",
      "metadata": {
        "id": "FsEIIwvRJyDc"
      },
      "source": [
        "## Loading the dataset"
      ]
    },
    {
      "cell_type": "code",
      "execution_count": null,
      "metadata": {
        "id": "BPNumN76r0Il"
      },
      "outputs": [],
      "source": [
        "data = pd.read_csv(\"/content/drive/MyDrive/PFE/Data/merged_data.csv\")"
      ]
    },
    {
      "cell_type": "code",
      "execution_count": null,
      "metadata": {
        "colab": {
          "base_uri": "https://localhost:8080/",
          "height": 206
        },
        "id": "IU8Sc-KCpk1H",
        "outputId": "b0c7b55c-dcd5-4860-db95-49c4888e55e4"
      },
      "outputs": [
        {
          "output_type": "execute_result",
          "data": {
            "text/plain": [
              "                                                Text  label  Sentiment\n",
              "0  read contextno change meaning history islamic ...      0          0\n",
              "1  idiot claim people tried stop becoming terrori...      0         -1\n",
              "2    call sexist go auto place would rather talk guy      1          0\n",
              "3   wrong isi follows example mohammed quran exactly      1         -1\n",
              "4  saudi preacher raped tortured five yearold dau...      0          0"
            ],
            "text/html": [
              "\n",
              "  <div id=\"df-f6be9f41-37de-4893-8a28-bab9fae4a426\" class=\"colab-df-container\">\n",
              "    <div>\n",
              "<style scoped>\n",
              "    .dataframe tbody tr th:only-of-type {\n",
              "        vertical-align: middle;\n",
              "    }\n",
              "\n",
              "    .dataframe tbody tr th {\n",
              "        vertical-align: top;\n",
              "    }\n",
              "\n",
              "    .dataframe thead th {\n",
              "        text-align: right;\n",
              "    }\n",
              "</style>\n",
              "<table border=\"1\" class=\"dataframe\">\n",
              "  <thead>\n",
              "    <tr style=\"text-align: right;\">\n",
              "      <th></th>\n",
              "      <th>Text</th>\n",
              "      <th>label</th>\n",
              "      <th>Sentiment</th>\n",
              "    </tr>\n",
              "  </thead>\n",
              "  <tbody>\n",
              "    <tr>\n",
              "      <th>0</th>\n",
              "      <td>read contextno change meaning history islamic ...</td>\n",
              "      <td>0</td>\n",
              "      <td>0</td>\n",
              "    </tr>\n",
              "    <tr>\n",
              "      <th>1</th>\n",
              "      <td>idiot claim people tried stop becoming terrori...</td>\n",
              "      <td>0</td>\n",
              "      <td>-1</td>\n",
              "    </tr>\n",
              "    <tr>\n",
              "      <th>2</th>\n",
              "      <td>call sexist go auto place would rather talk guy</td>\n",
              "      <td>1</td>\n",
              "      <td>0</td>\n",
              "    </tr>\n",
              "    <tr>\n",
              "      <th>3</th>\n",
              "      <td>wrong isi follows example mohammed quran exactly</td>\n",
              "      <td>1</td>\n",
              "      <td>-1</td>\n",
              "    </tr>\n",
              "    <tr>\n",
              "      <th>4</th>\n",
              "      <td>saudi preacher raped tortured five yearold dau...</td>\n",
              "      <td>0</td>\n",
              "      <td>0</td>\n",
              "    </tr>\n",
              "  </tbody>\n",
              "</table>\n",
              "</div>\n",
              "    <div class=\"colab-df-buttons\">\n",
              "\n",
              "  <div class=\"colab-df-container\">\n",
              "    <button class=\"colab-df-convert\" onclick=\"convertToInteractive('df-f6be9f41-37de-4893-8a28-bab9fae4a426')\"\n",
              "            title=\"Convert this dataframe to an interactive table.\"\n",
              "            style=\"display:none;\">\n",
              "\n",
              "  <svg xmlns=\"http://www.w3.org/2000/svg\" height=\"24px\" viewBox=\"0 -960 960 960\">\n",
              "    <path d=\"M120-120v-720h720v720H120Zm60-500h600v-160H180v160Zm220 220h160v-160H400v160Zm0 220h160v-160H400v160ZM180-400h160v-160H180v160Zm440 0h160v-160H620v160ZM180-180h160v-160H180v160Zm440 0h160v-160H620v160Z\"/>\n",
              "  </svg>\n",
              "    </button>\n",
              "\n",
              "  <style>\n",
              "    .colab-df-container {\n",
              "      display:flex;\n",
              "      gap: 12px;\n",
              "    }\n",
              "\n",
              "    .colab-df-convert {\n",
              "      background-color: #E8F0FE;\n",
              "      border: none;\n",
              "      border-radius: 50%;\n",
              "      cursor: pointer;\n",
              "      display: none;\n",
              "      fill: #1967D2;\n",
              "      height: 32px;\n",
              "      padding: 0 0 0 0;\n",
              "      width: 32px;\n",
              "    }\n",
              "\n",
              "    .colab-df-convert:hover {\n",
              "      background-color: #E2EBFA;\n",
              "      box-shadow: 0px 1px 2px rgba(60, 64, 67, 0.3), 0px 1px 3px 1px rgba(60, 64, 67, 0.15);\n",
              "      fill: #174EA6;\n",
              "    }\n",
              "\n",
              "    .colab-df-buttons div {\n",
              "      margin-bottom: 4px;\n",
              "    }\n",
              "\n",
              "    [theme=dark] .colab-df-convert {\n",
              "      background-color: #3B4455;\n",
              "      fill: #D2E3FC;\n",
              "    }\n",
              "\n",
              "    [theme=dark] .colab-df-convert:hover {\n",
              "      background-color: #434B5C;\n",
              "      box-shadow: 0px 1px 3px 1px rgba(0, 0, 0, 0.15);\n",
              "      filter: drop-shadow(0px 1px 2px rgba(0, 0, 0, 0.3));\n",
              "      fill: #FFFFFF;\n",
              "    }\n",
              "  </style>\n",
              "\n",
              "    <script>\n",
              "      const buttonEl =\n",
              "        document.querySelector('#df-f6be9f41-37de-4893-8a28-bab9fae4a426 button.colab-df-convert');\n",
              "      buttonEl.style.display =\n",
              "        google.colab.kernel.accessAllowed ? 'block' : 'none';\n",
              "\n",
              "      async function convertToInteractive(key) {\n",
              "        const element = document.querySelector('#df-f6be9f41-37de-4893-8a28-bab9fae4a426');\n",
              "        const dataTable =\n",
              "          await google.colab.kernel.invokeFunction('convertToInteractive',\n",
              "                                                    [key], {});\n",
              "        if (!dataTable) return;\n",
              "\n",
              "        const docLinkHtml = 'Like what you see? Visit the ' +\n",
              "          '<a target=\"_blank\" href=https://colab.research.google.com/notebooks/data_table.ipynb>data table notebook</a>'\n",
              "          + ' to learn more about interactive tables.';\n",
              "        element.innerHTML = '';\n",
              "        dataTable['output_type'] = 'display_data';\n",
              "        await google.colab.output.renderOutput(dataTable, element);\n",
              "        const docLink = document.createElement('div');\n",
              "        docLink.innerHTML = docLinkHtml;\n",
              "        element.appendChild(docLink);\n",
              "      }\n",
              "    </script>\n",
              "  </div>\n",
              "\n",
              "\n",
              "<div id=\"df-773c295f-8e4c-47d2-bb9f-105b8ca64ec6\">\n",
              "  <button class=\"colab-df-quickchart\" onclick=\"quickchart('df-773c295f-8e4c-47d2-bb9f-105b8ca64ec6')\"\n",
              "            title=\"Suggest charts\"\n",
              "            style=\"display:none;\">\n",
              "\n",
              "<svg xmlns=\"http://www.w3.org/2000/svg\" height=\"24px\"viewBox=\"0 0 24 24\"\n",
              "     width=\"24px\">\n",
              "    <g>\n",
              "        <path d=\"M19 3H5c-1.1 0-2 .9-2 2v14c0 1.1.9 2 2 2h14c1.1 0 2-.9 2-2V5c0-1.1-.9-2-2-2zM9 17H7v-7h2v7zm4 0h-2V7h2v10zm4 0h-2v-4h2v4z\"/>\n",
              "    </g>\n",
              "</svg>\n",
              "  </button>\n",
              "\n",
              "<style>\n",
              "  .colab-df-quickchart {\n",
              "      --bg-color: #E8F0FE;\n",
              "      --fill-color: #1967D2;\n",
              "      --hover-bg-color: #E2EBFA;\n",
              "      --hover-fill-color: #174EA6;\n",
              "      --disabled-fill-color: #AAA;\n",
              "      --disabled-bg-color: #DDD;\n",
              "  }\n",
              "\n",
              "  [theme=dark] .colab-df-quickchart {\n",
              "      --bg-color: #3B4455;\n",
              "      --fill-color: #D2E3FC;\n",
              "      --hover-bg-color: #434B5C;\n",
              "      --hover-fill-color: #FFFFFF;\n",
              "      --disabled-bg-color: #3B4455;\n",
              "      --disabled-fill-color: #666;\n",
              "  }\n",
              "\n",
              "  .colab-df-quickchart {\n",
              "    background-color: var(--bg-color);\n",
              "    border: none;\n",
              "    border-radius: 50%;\n",
              "    cursor: pointer;\n",
              "    display: none;\n",
              "    fill: var(--fill-color);\n",
              "    height: 32px;\n",
              "    padding: 0;\n",
              "    width: 32px;\n",
              "  }\n",
              "\n",
              "  .colab-df-quickchart:hover {\n",
              "    background-color: var(--hover-bg-color);\n",
              "    box-shadow: 0 1px 2px rgba(60, 64, 67, 0.3), 0 1px 3px 1px rgba(60, 64, 67, 0.15);\n",
              "    fill: var(--button-hover-fill-color);\n",
              "  }\n",
              "\n",
              "  .colab-df-quickchart-complete:disabled,\n",
              "  .colab-df-quickchart-complete:disabled:hover {\n",
              "    background-color: var(--disabled-bg-color);\n",
              "    fill: var(--disabled-fill-color);\n",
              "    box-shadow: none;\n",
              "  }\n",
              "\n",
              "  .colab-df-spinner {\n",
              "    border: 2px solid var(--fill-color);\n",
              "    border-color: transparent;\n",
              "    border-bottom-color: var(--fill-color);\n",
              "    animation:\n",
              "      spin 1s steps(1) infinite;\n",
              "  }\n",
              "\n",
              "  @keyframes spin {\n",
              "    0% {\n",
              "      border-color: transparent;\n",
              "      border-bottom-color: var(--fill-color);\n",
              "      border-left-color: var(--fill-color);\n",
              "    }\n",
              "    20% {\n",
              "      border-color: transparent;\n",
              "      border-left-color: var(--fill-color);\n",
              "      border-top-color: var(--fill-color);\n",
              "    }\n",
              "    30% {\n",
              "      border-color: transparent;\n",
              "      border-left-color: var(--fill-color);\n",
              "      border-top-color: var(--fill-color);\n",
              "      border-right-color: var(--fill-color);\n",
              "    }\n",
              "    40% {\n",
              "      border-color: transparent;\n",
              "      border-right-color: var(--fill-color);\n",
              "      border-top-color: var(--fill-color);\n",
              "    }\n",
              "    60% {\n",
              "      border-color: transparent;\n",
              "      border-right-color: var(--fill-color);\n",
              "    }\n",
              "    80% {\n",
              "      border-color: transparent;\n",
              "      border-right-color: var(--fill-color);\n",
              "      border-bottom-color: var(--fill-color);\n",
              "    }\n",
              "    90% {\n",
              "      border-color: transparent;\n",
              "      border-bottom-color: var(--fill-color);\n",
              "    }\n",
              "  }\n",
              "</style>\n",
              "\n",
              "  <script>\n",
              "    async function quickchart(key) {\n",
              "      const quickchartButtonEl =\n",
              "        document.querySelector('#' + key + ' button');\n",
              "      quickchartButtonEl.disabled = true;  // To prevent multiple clicks.\n",
              "      quickchartButtonEl.classList.add('colab-df-spinner');\n",
              "      try {\n",
              "        const charts = await google.colab.kernel.invokeFunction(\n",
              "            'suggestCharts', [key], {});\n",
              "      } catch (error) {\n",
              "        console.error('Error during call to suggestCharts:', error);\n",
              "      }\n",
              "      quickchartButtonEl.classList.remove('colab-df-spinner');\n",
              "      quickchartButtonEl.classList.add('colab-df-quickchart-complete');\n",
              "    }\n",
              "    (() => {\n",
              "      let quickchartButtonEl =\n",
              "        document.querySelector('#df-773c295f-8e4c-47d2-bb9f-105b8ca64ec6 button');\n",
              "      quickchartButtonEl.style.display =\n",
              "        google.colab.kernel.accessAllowed ? 'block' : 'none';\n",
              "    })();\n",
              "  </script>\n",
              "</div>\n",
              "\n",
              "    </div>\n",
              "  </div>\n"
            ],
            "application/vnd.google.colaboratory.intrinsic+json": {
              "type": "dataframe",
              "variable_name": "data",
              "summary": "{\n  \"name\": \"data\",\n  \"rows\": 71831,\n  \"fields\": [\n    {\n      \"column\": \"Text\",\n      \"properties\": {\n        \"dtype\": \"string\",\n        \"num_unique_values\": 71830,\n        \"samples\": [\n          \"hoping momentary trend able vote repub\",\n          \"oh dear poor deludec spud fan mouthing offnncome back week spud fan team dropped like stone back belongsnn nnspurs little club flatpack mfi stadium lol\",\n          \"bully would used name\"\n        ],\n        \"semantic_type\": \"\",\n        \"description\": \"\"\n      }\n    },\n    {\n      \"column\": \"label\",\n      \"properties\": {\n        \"dtype\": \"number\",\n        \"std\": 0,\n        \"min\": 0,\n        \"max\": 1,\n        \"num_unique_values\": 2,\n        \"samples\": [\n          1,\n          0\n        ],\n        \"semantic_type\": \"\",\n        \"description\": \"\"\n      }\n    },\n    {\n      \"column\": \"Sentiment\",\n      \"properties\": {\n        \"dtype\": \"number\",\n        \"std\": 0,\n        \"min\": -1,\n        \"max\": 1,\n        \"num_unique_values\": 3,\n        \"samples\": [\n          0,\n          -1\n        ],\n        \"semantic_type\": \"\",\n        \"description\": \"\"\n      }\n    }\n  ]\n}"
            }
          },
          "metadata": {},
          "execution_count": 4
        }
      ],
      "source": [
        "data.head()"
      ]
    },
    {
      "cell_type": "markdown",
      "source": [
        "###  Final Data analysis"
      ],
      "metadata": {
        "id": "sO7F0YU9RlGJ"
      }
    },
    {
      "cell_type": "code",
      "source": [
        "data[\"len\"] = [len(text.split()) for text in data.Text]"
      ],
      "metadata": {
        "id": "BY9F6BZcf6en"
      },
      "execution_count": null,
      "outputs": []
    },
    {
      "cell_type": "code",
      "source": [
        "data_txt = data[data['len'] < data['len'].quantile(0.995)]"
      ],
      "metadata": {
        "id": "Z8Ed2TpbgsYM"
      },
      "execution_count": null,
      "outputs": []
    },
    {
      "cell_type": "code",
      "source": [
        "data_txt.label.value_counts()"
      ],
      "metadata": {
        "colab": {
          "base_uri": "https://localhost:8080/",
          "height": 178
        },
        "id": "nD3pBdAmgTDP",
        "outputId": "44961280-0501-4661-e124-a2c1ed75aed5"
      },
      "execution_count": null,
      "outputs": [
        {
          "output_type": "execute_result",
          "data": {
            "text/plain": [
              "label\n",
              "1    37775\n",
              "0    33694\n",
              "Name: count, dtype: int64"
            ],
            "text/html": [
              "<div>\n",
              "<style scoped>\n",
              "    .dataframe tbody tr th:only-of-type {\n",
              "        vertical-align: middle;\n",
              "    }\n",
              "\n",
              "    .dataframe tbody tr th {\n",
              "        vertical-align: top;\n",
              "    }\n",
              "\n",
              "    .dataframe thead th {\n",
              "        text-align: right;\n",
              "    }\n",
              "</style>\n",
              "<table border=\"1\" class=\"dataframe\">\n",
              "  <thead>\n",
              "    <tr style=\"text-align: right;\">\n",
              "      <th></th>\n",
              "      <th>count</th>\n",
              "    </tr>\n",
              "    <tr>\n",
              "      <th>label</th>\n",
              "      <th></th>\n",
              "    </tr>\n",
              "  </thead>\n",
              "  <tbody>\n",
              "    <tr>\n",
              "      <th>1</th>\n",
              "      <td>37775</td>\n",
              "    </tr>\n",
              "    <tr>\n",
              "      <th>0</th>\n",
              "      <td>33694</td>\n",
              "    </tr>\n",
              "  </tbody>\n",
              "</table>\n",
              "</div><br><label><b>dtype:</b> int64</label>"
            ]
          },
          "metadata": {},
          "execution_count": 19
        }
      ]
    },
    {
      "cell_type": "code",
      "source": [
        "data.label.value_counts()"
      ],
      "metadata": {
        "colab": {
          "base_uri": "https://localhost:8080/",
          "height": 178
        },
        "id": "crhxkJMOcJg8",
        "outputId": "60b5e013-cd3f-4050-c5b6-6aaf2af0802f"
      },
      "execution_count": null,
      "outputs": [
        {
          "output_type": "execute_result",
          "data": {
            "text/plain": [
              "label\n",
              "1    37782\n",
              "0    34049\n",
              "Name: count, dtype: int64"
            ],
            "text/html": [
              "<div>\n",
              "<style scoped>\n",
              "    .dataframe tbody tr th:only-of-type {\n",
              "        vertical-align: middle;\n",
              "    }\n",
              "\n",
              "    .dataframe tbody tr th {\n",
              "        vertical-align: top;\n",
              "    }\n",
              "\n",
              "    .dataframe thead th {\n",
              "        text-align: right;\n",
              "    }\n",
              "</style>\n",
              "<table border=\"1\" class=\"dataframe\">\n",
              "  <thead>\n",
              "    <tr style=\"text-align: right;\">\n",
              "      <th></th>\n",
              "      <th>count</th>\n",
              "    </tr>\n",
              "    <tr>\n",
              "      <th>label</th>\n",
              "      <th></th>\n",
              "    </tr>\n",
              "  </thead>\n",
              "  <tbody>\n",
              "    <tr>\n",
              "      <th>1</th>\n",
              "      <td>37782</td>\n",
              "    </tr>\n",
              "    <tr>\n",
              "      <th>0</th>\n",
              "      <td>34049</td>\n",
              "    </tr>\n",
              "  </tbody>\n",
              "</table>\n",
              "</div><br><label><b>dtype:</b> int64</label>"
            ]
          },
          "metadata": {},
          "execution_count": 8
        }
      ]
    },
    {
      "cell_type": "code",
      "execution_count": null,
      "metadata": {
        "colab": {
          "base_uri": "https://localhost:8080/",
          "height": 209
        },
        "id": "8aIpGca7tOWV",
        "outputId": "15ea0bf7-4db0-4cce-9096-207f2621c334"
      },
      "outputs": [
        {
          "output_type": "execute_result",
          "data": {
            "text/plain": [
              "Text         0\n",
              "label        0\n",
              "Sentiment    0\n",
              "len          0\n",
              "dtype: int64"
            ],
            "text/html": [
              "<div>\n",
              "<style scoped>\n",
              "    .dataframe tbody tr th:only-of-type {\n",
              "        vertical-align: middle;\n",
              "    }\n",
              "\n",
              "    .dataframe tbody tr th {\n",
              "        vertical-align: top;\n",
              "    }\n",
              "\n",
              "    .dataframe thead th {\n",
              "        text-align: right;\n",
              "    }\n",
              "</style>\n",
              "<table border=\"1\" class=\"dataframe\">\n",
              "  <thead>\n",
              "    <tr style=\"text-align: right;\">\n",
              "      <th></th>\n",
              "      <th>0</th>\n",
              "    </tr>\n",
              "  </thead>\n",
              "  <tbody>\n",
              "    <tr>\n",
              "      <th>Text</th>\n",
              "      <td>0</td>\n",
              "    </tr>\n",
              "    <tr>\n",
              "      <th>label</th>\n",
              "      <td>0</td>\n",
              "    </tr>\n",
              "    <tr>\n",
              "      <th>Sentiment</th>\n",
              "      <td>0</td>\n",
              "    </tr>\n",
              "    <tr>\n",
              "      <th>len</th>\n",
              "      <td>0</td>\n",
              "    </tr>\n",
              "  </tbody>\n",
              "</table>\n",
              "</div><br><label><b>dtype:</b> int64</label>"
            ]
          },
          "metadata": {},
          "execution_count": 9
        }
      ],
      "source": [
        "data_txt.isnull().sum()"
      ]
    },
    {
      "cell_type": "code",
      "execution_count": null,
      "metadata": {
        "colab": {
          "base_uri": "https://localhost:8080/"
        },
        "id": "BTWUV75cvGFY",
        "outputId": "27a81eec-8ee4-4443-c712-bbf5a956bbf8"
      },
      "outputs": [
        {
          "output_type": "stream",
          "name": "stderr",
          "text": [
            "<ipython-input-10-987d12103bb5>:2: SettingWithCopyWarning: \n",
            "A value is trying to be set on a copy of a slice from a DataFrame\n",
            "\n",
            "See the caveats in the documentation: https://pandas.pydata.org/pandas-docs/stable/user_guide/indexing.html#returning-a-view-versus-a-copy\n",
            "  data_txt.dropna(inplace=True)\n",
            "<ipython-input-10-987d12103bb5>:3: SettingWithCopyWarning: \n",
            "A value is trying to be set on a copy of a slice from a DataFrame\n",
            "\n",
            "See the caveats in the documentation: https://pandas.pydata.org/pandas-docs/stable/user_guide/indexing.html#returning-a-view-versus-a-copy\n",
            "  data_txt.drop_duplicates(inplace=True)\n"
          ]
        }
      ],
      "source": [
        "data_txt.isnull().sum()\n",
        "data_txt.dropna(inplace=True)\n",
        "data_txt.drop_duplicates(inplace=True)"
      ]
    },
    {
      "cell_type": "code",
      "source": [
        "plot_label_distribution(data_txt)"
      ],
      "metadata": {
        "colab": {
          "base_uri": "https://localhost:8080/",
          "height": 514
        },
        "id": "a1vMZGBBAKOI",
        "outputId": "e7aa1cbf-94aa-47db-9393-9547ce4d7944"
      },
      "execution_count": null,
      "outputs": [
        {
          "output_type": "stream",
          "name": "stderr",
          "text": [
            "<ipython-input-14-41b38ab17881>:3: SettingWithCopyWarning: \n",
            "A value is trying to be set on a copy of a slice from a DataFrame.\n",
            "Try using .loc[row_indexer,col_indexer] = value instead\n",
            "\n",
            "See the caveats in the documentation: https://pandas.pydata.org/pandas-docs/stable/user_guide/indexing.html#returning-a-view-versus-a-copy\n",
            "  df['label'] = df[label_column].map({0: 'Non-cyberbullying', 1: 'Bullying'})\n"
          ]
        },
        {
          "output_type": "display_data",
          "data": {
            "text/plain": [
              "<Figure size 600x400 with 1 Axes>"
            ],
            "image/png": "[encoded data removed]"
          },
          "metadata": {}
        }
      ]
    },
    {
      "cell_type": "code",
      "source": [
        "plot_relation_sent_label(data_txt)"
      ],
      "metadata": {
        "colab": {
          "base_uri": "https://localhost:8080/",
          "height": 410
        },
        "id": "Sv16-GorBIk-",
        "outputId": "392625b8-1f0a-4f2a-b070-014f5f3af5e2"
      },
      "execution_count": null,
      "outputs": [
        {
          "output_type": "display_data",
          "data": {
            "text/plain": [
              "<Figure size 600x400 with 1 Axes>"
            ],
            "image/png": "[encoded data removed]"
          },
          "metadata": {}
        }
      ]
    },
    {
      "cell_type": "markdown",
      "source": [
        "### Splitting the data"
      ],
      "metadata": {
        "id": "CL-rI32pRtWu"
      }
    },
    {
      "cell_type": "code",
      "source": [
        "# Separate features and labels\n",
        "X = data_txt['Text'].values\n",
        "sentiments = data_txt['Sentiment'].values\n",
        "y = data_txt['label'].values\n"
      ],
      "metadata": {
        "id": "sGLcr19NaSzp"
      },
      "execution_count": null,
      "outputs": []
    },
    {
      "cell_type": "code",
      "execution_count": null,
      "metadata": {
        "id": "EIUcxCo2KslO"
      },
      "outputs": [],
      "source": [
        "# Split the dataset into training and testing sets\n",
        "X_train, X_tem, y_train, y_tem, sent_train, sent_tem = train_test_split(X, y, sentiments, test_size=0.3, random_state=42, stratify=y)\n",
        "X_test, X_val, y_test, y_val, sent_test, sent_val = train_test_split(X_tem, y_tem, sent_tem, test_size=0.5, random_state=42, stratify=y_tem)"
      ]
    },
    {
      "cell_type": "markdown",
      "source": [
        "### Handling the data imbalance with: an oversampling technique and the class weight approach"
      ],
      "metadata": {
        "id": "e4wZVkQPSK9n"
      }
    },
    {
      "cell_type": "code",
      "source": [
        "from sklearn.utils.class_weight import compute_class_weight\n",
        "#Compute class weights based on original data\n",
        "class_weights = compute_class_weight(class_weight='balanced', classes=np.unique(y), y=y)\n",
        "class_weights_dict = dict(enumerate(class_weights))"
      ],
      "metadata": {
        "id": "ZguS9gwUVZ5N"
      },
      "execution_count": null,
      "outputs": []
    },
    {
      "cell_type": "code",
      "execution_count": null,
      "metadata": {
        "id": "YD_9ujh5KnuJ"
      },
      "outputs": [],
      "source": [
        "# Combine X_train and sent_train into a single DataFrame\n",
        "train_combined = pd.DataFrame({\n",
        "    'Text': X_train,\n",
        "    'Sentiment': sent_train\n",
        "})\n",
        "\n",
        "# Initialize the RandomOverSampler\n",
        "ros = RandomOverSampler(random_state=42)\n",
        "\n",
        "# Apply oversampling to the combined data\n",
        "train_combined_res, y_train_res = ros.fit_resample(train_combined, y_train)\n",
        "\n",
        "# Separate the resampled data back into X_train_res and sent_train_res\n",
        "X_train_res = train_combined_res['Text'].values\n",
        "sent_train_res = train_combined_res['Sentiment'].values"
      ]
    },
    {
      "cell_type": "markdown",
      "source": [
        "### Data leak verification"
      ],
      "metadata": {
        "id": "gPNCR6RwWPYC"
      }
    },
    {
      "cell_type": "code",
      "source": [
        "# Convert sets to check for overlap\n",
        "train_texts = set(X_train)\n",
        "test_texts = set(X_test)\n",
        "\n",
        "# Find common entries\n",
        "common_texts = train_texts.intersection(test_texts)\n",
        "\n",
        "if len(common_texts) > 0:\n",
        "    print(f\"There are {len(common_texts)} overlapping entries between training and test sets.\")\n",
        "else:\n",
        "    print(\"No overlapping entries found between training and test sets.\")\n"
      ],
      "metadata": {
        "colab": {
          "base_uri": "https://localhost:8080/"
        },
        "id": "VDFktznkWSm9",
        "outputId": "8474192c-ca7a-4b24-f714-05fd6c5319c9"
      },
      "execution_count": null,
      "outputs": [
        {
          "output_type": "stream",
          "name": "stdout",
          "text": [
            "No overlapping entries found between training and test sets.\n"
          ]
        }
      ]
    },
    {
      "cell_type": "code",
      "source": [
        "# Check the distribution of the original dataset\n",
        "original_distribution = data_txt['label'].value_counts(normalize=True)\n",
        "print(\"Original Data Distribution:\\n\", original_distribution)\n",
        "\n",
        "# Check the distribution of the training set before and after oversampling\n",
        "train_distribution_before = pd.Series(y_train).value_counts(normalize=True)\n",
        "print(\"Training Data Distribution Before Oversampling:\\n\", train_distribution_before)\n",
        "\n",
        "train_distribution_after = pd.Series(y_train_res).value_counts(normalize=True)\n",
        "print(\"Training Data Distribution After Oversampling:\\n\", train_distribution_after)\n",
        "\n",
        "# Check the distribution of the test set\n",
        "test_distribution = pd.Series(y_test).value_counts(normalize=True)\n",
        "print(\"Test Data Distribution:\\n\", test_distribution)\n"
      ],
      "metadata": {
        "colab": {
          "base_uri": "https://localhost:8080/"
        },
        "id": "WawbgR88esWL",
        "outputId": "a151e7c6-4f04-43fd-f92f-71537475f932"
      },
      "execution_count": null,
      "outputs": [
        {
          "output_type": "stream",
          "name": "stdout",
          "text": [
            "Original Data Distribution:\n",
            " label\n",
            "1    0.528551\n",
            "0    0.471449\n",
            "Name: proportion, dtype: float64\n",
            "Training Data Distribution Before Oversampling:\n",
            " 1    0.528544\n",
            "0    0.471456\n",
            "Name: proportion, dtype: float64\n",
            "Training Data Distribution After Oversampling:\n",
            " 1    0.5\n",
            "0    0.5\n",
            "Name: proportion, dtype: float64\n",
            "Test Data Distribution:\n",
            " 1    0.528545\n",
            "0    0.471455\n",
            "Name: proportion, dtype: float64\n"
          ]
        }
      ]
    },
    {
      "cell_type": "markdown",
      "source": [
        "## Tokenization"
      ],
      "metadata": {
        "id": "76A3sE9a4czd"
      }
    },
    {
      "cell_type": "code",
      "execution_count": null,
      "metadata": {
        "colab": {
          "base_uri": "https://localhost:8080/"
        },
        "id": "zGI9rEW72bt4",
        "outputId": "4007c59f-36e9-43c2-c2ac-51327d12cf26"
      },
      "outputs": [
        {
          "output_type": "stream",
          "name": "stderr",
          "text": [
            "/usr/local/lib/python3.10/dist-packages/huggingface_hub/file_download.py:1132: FutureWarning: `resume_download` is deprecated and will be removed in version 1.0.0. Downloads always resume when possible. If you want to force a new download, use `force_download=True`.\n",
            "  warnings.warn(\n"
          ]
        }
      ],
      "source": [
        "# First load the real tokenizer\n",
        "tokenizer = transformers.DistilBertTokenizer.from_pretrained('distilbert-base-uncased')"
      ]
    },
    {
      "cell_type": "code",
      "execution_count": null,
      "metadata": {
        "id": "Fnyc-bv5lc55"
      },
      "outputs": [],
      "source": [
        "x_train_enc = tokenizer(X_train_res.astype(str).tolist(),  truncation=True, padding='max_length', max_length=128, return_tensors='tf')\n",
        "x_valid_enc= tokenizer(X_val.astype(str).tolist(), truncation=True, padding='max_length', max_length=128, return_tensors='tf')\n",
        "x_test_enc = tokenizer(X_test.astype(str).tolist(), truncation=True, padding='max_length', max_length=128, return_tensors='tf')"
      ]
    },
    {
      "cell_type": "code",
      "source": [
        "# Debugging: Print shapes to verify\n",
        "print(f\"X_train_res_ids shape: {x_train_enc['input_ids'].shape}\")\n",
        "print(f\"X_train_res_attention_masks shape: {x_train_enc['attention_mask'].shape}\")\n",
        "print(f\"X_test_ids shape: {x_test_enc['input_ids'].shape}\")\n",
        "print(f\"X_test_attention_masks shape: {x_test_enc['attention_mask'].shape}\")\n",
        "print(f\"X_valid_ids shape: {x_valid_enc['input_ids'].shape}\")\n",
        "print(f\"X_valid_attention_masks shape: {x_valid_enc['attention_mask'].shape}\")"
      ],
      "metadata": {
        "colab": {
          "base_uri": "https://localhost:8080/"
        },
        "id": "sn8uT9TyltNr",
        "outputId": "3e718dab-c955-4292-97d0-73b0950f0121"
      },
      "execution_count": null,
      "outputs": [
        {
          "output_type": "stream",
          "name": "stdout",
          "text": [
            "X_train_res_ids shape: (52884, 128)\n",
            "X_train_res_attention_masks shape: (52884, 128)\n",
            "X_test_ids shape: (10720, 128)\n",
            "X_test_attention_masks shape: (10720, 128)\n",
            "X_valid_ids shape: (10721, 128)\n",
            "X_valid_attention_masks shape: (10721, 128)\n"
          ]
        }
      ]
    },
    {
      "cell_type": "code",
      "source": [
        "AUTO = tf.data.experimental.AUTOTUNE\n",
        "# Configuration\n",
        "EPOCHS = 5\n",
        "BATCH_SIZE = 16\n",
        "MAX_LEN = 128"
      ],
      "metadata": {
        "id": "TEWDEA3a6eZU"
      },
      "execution_count": null,
      "outputs": []
    },
    {
      "cell_type": "code",
      "execution_count": null,
      "metadata": {
        "id": "8gGmntL9MBQ6"
      },
      "outputs": [],
      "source": [
        "train_dataset = (\n",
        "    tf.data.Dataset\n",
        "    .from_tensor_slices(({\n",
        "        'input_word_ids': tf.constant(x_train_enc['input_ids']),\n",
        "        'input_attention_mask': tf.constant(x_train_enc['attention_mask']),\n",
        "        'input_sentiment': tf.constant(sent_train_res, dtype=tf.int32)\n",
        "     } , y_train_res))\n",
        "    .repeat()\n",
        "    .shuffle(2048)\n",
        "    .batch(16)\n",
        "    .prefetch(AUTO)\n",
        ")\n",
        "\n",
        "valid_dataset = (\n",
        "    tf.data.Dataset\n",
        "    .from_tensor_slices(({\n",
        "       'input_word_ids': tf.constant(x_valid_enc['input_ids']),\n",
        "        'input_attention_mask': tf.constant(x_valid_enc['attention_mask']),\n",
        "        'input_sentiment': tf.constant(sent_val, dtype=tf.int32)\n",
        "     } , y_val))\n",
        "    .batch(BATCH_SIZE)\n",
        "    .cache()\n",
        "    .prefetch(AUTO)\n",
        ")\n",
        "\n",
        "\n",
        "\n"
      ]
    },
    {
      "cell_type": "code",
      "source": [
        "# Define a function to print the shapes of the tensors in the dataset\n",
        "def print_dataset_shapes(dataset, name):\n",
        "    print(f\"Shapes in {name}:\")\n",
        "    for batch in dataset.take(1):  # Take one batch from the dataset\n",
        "        inputs, labels = batch\n",
        "        for key, value in inputs.items():\n",
        "            print(f\"{key}: {value.shape}\")\n",
        "        print(f\"labels: {labels.shape}\")\n",
        "\n",
        "# Print shapes of train_dataset\n",
        "print_dataset_shapes(train_dataset, \"train_dataset\")\n",
        "\n",
        "# Print shapes of valid_dataset\n",
        "print_dataset_shapes(valid_dataset, \"valid_dataset\")\n",
        "\n",
        "# Print shapes of test_dataset\n",
        "print_dataset_shapes(test_dataset, \"test_dataset\")"
      ],
      "metadata": {
        "colab": {
          "base_uri": "https://localhost:8080/"
        },
        "id": "UWGVupsHplha",
        "outputId": "6ac9e84a-de7f-4e21-fba7-ec71452d732f"
      },
      "execution_count": null,
      "outputs": [
        {
          "output_type": "stream",
          "name": "stdout",
          "text": [
            "Shapes in train_dataset:\n",
            "input_word_ids: (16, 128)\n",
            "input_attention_mask: (16, 128)\n",
            "input_sentiment: (16,)\n",
            "labels: (16,)\n",
            "Shapes in valid_dataset:\n",
            "input_word_ids: (16, 128)\n",
            "input_attention_mask: (16, 128)\n",
            "input_sentiment: (16,)\n",
            "labels: (16,)\n",
            "Shapes in test_dataset:\n",
            "input_word_ids: (16, 128)\n",
            "input_attention_mask: (16, 128)\n",
            "input_sentiment: (16,)\n",
            "labels: (16,)\n"
          ]
        }
      ]
    },
    {
      "cell_type": "code",
      "execution_count": null,
      "metadata": {
        "colab": {
          "base_uri": "https://localhost:8080/",
          "height": 156,
          "referenced_widgets": [
            "fc23246cf8094f85a20a361112de1173",
            "2d74ceec0ca94d3692a939db3261c4a1",
            "56d175f833434780baf7518f5ce0643e",
            "dda4b76dfa7947999cf1d5e11fc6a39a",
            "6660740313454ae98b9a040d2d6f1452",
            "a0e837e5d3e040c49b4994fae9eba2ef",
            "9b43ce5f6df24740a685d98339170f79",
            "75bade28d656419ebd3644a1ebbb018d",
            "802530a8c67d411abe86f87937858aff",
            "688482fe77bf4b389fc73762ddd8d972",
            "cebe70508efb473f84ba4238219e77be"
          ]
        },
        "id": "ueJFR00Ip5Kd",
        "outputId": "3dc50d19-3832-4fed-c016-070f30c4036a"
      },
      "outputs": [
        {
          "output_type": "display_data",
          "data": {
            "text/plain": [
              "model.safetensors:   0%|          | 0.00/440M [00:00<?, ?B/s]"
            ],
            "application/vnd.jupyter.widget-view+json": {
              "version_major": 2,
              "version_minor": 0,
              "model_id": "fc23246cf8094f85a20a361112de1173"
            }
          },
          "metadata": {}
        },
        {
          "output_type": "stream",
          "name": "stderr",
          "text": [
            "Some weights of the PyTorch model were not used when initializing the TF 2.0 model TFBertModel: ['cls.predictions.bias', 'cls.predictions.transform.LayerNorm.bias', 'cls.seq_relationship.bias', 'cls.predictions.transform.dense.bias', 'cls.predictions.transform.dense.weight', 'cls.seq_relationship.weight', 'cls.predictions.transform.LayerNorm.weight']\n",
            "- This IS expected if you are initializing TFBertModel from a PyTorch model trained on another task or with another architecture (e.g. initializing a TFBertForSequenceClassification model from a BertForPreTraining model).\n",
            "- This IS NOT expected if you are initializing TFBertModel from a PyTorch model that you expect to be exactly identical (e.g. initializing a TFBertForSequenceClassification model from a BertForSequenceClassification model).\n",
            "All the weights of TFBertModel were initialized from the PyTorch model.\n",
            "If your task is similar to the task the model of the checkpoint was trained on, you can already use TFBertModel for predictions without further training.\n"
          ]
        }
      ],
      "source": [
        "transformer_layer =  transformers.TFBertModel.from_pretrained('distilbert-base-uncased')"
      ]
    },
    {
      "cell_type": "markdown",
      "metadata": {
        "id": "EXv1laC0BsW6"
      },
      "source": [
        "## Modeling"
      ]
    },
    {
      "cell_type": "code",
      "execution_count": null,
      "metadata": {
        "colab": {
          "base_uri": "https://localhost:8080/"
        },
        "id": "OpVhmlKjJF9W",
        "outputId": "619fce1c-dc74-4728-bdad-7169094bac66"
      },
      "outputs": [
        {
          "output_type": "stream",
          "name": "stdout",
          "text": [
            "Collecting tensorflow_addons\n",
            "  Downloading tensorflow_addons-0.23.0-cp310-cp310-manylinux_2_17_x86_64.manylinux2014_x86_64.whl.metadata (1.8 kB)\n",
            "Requirement already satisfied: packaging in /usr/local/lib/python3.10/dist-packages (from tensorflow_addons) (24.1)\n",
            "Collecting typeguard<3.0.0,>=2.7 (from tensorflow_addons)\n",
            "  Downloading typeguard-2.13.3-py3-none-any.whl.metadata (3.6 kB)\n",
            "Downloading tensorflow_addons-0.23.0-cp310-cp310-manylinux_2_17_x86_64.manylinux2014_x86_64.whl (611 kB)\n",
            "\u001b[2K   \u001b[90m━━━━━━━━━━━━━━━━━━━━━━━━━━━━━━━━━━━━━━━━\u001b[0m \u001b[32m611.8/611.8 kB\u001b[0m \u001b[31m31.9 MB/s\u001b[0m eta \u001b[36m0:00:00\u001b[0m\n",
            "\u001b[?25hDownloading typeguard-2.13.3-py3-none-any.whl (17 kB)\n",
            "Installing collected packages: typeguard, tensorflow_addons\n",
            "  Attempting uninstall: typeguard\n",
            "    Found existing installation: typeguard 4.3.0\n",
            "    Uninstalling typeguard-4.3.0:\n",
            "      Successfully uninstalled typeguard-4.3.0\n",
            "\u001b[31mERROR: pip's dependency resolver does not currently take into account all the packages that are installed. This behaviour is the source of the following dependency conflicts.\n",
            "inflect 7.3.1 requires typeguard>=4.0.1, but you have typeguard 2.13.3 which is incompatible.\u001b[0m\u001b[31m\n",
            "\u001b[0mSuccessfully installed tensorflow_addons-0.23.0 typeguard-2.13.3\n"
          ]
        }
      ],
      "source": [
        "pip install tensorflow_addons"
      ]
    },
    {
      "cell_type": "code",
      "execution_count": null,
      "metadata": {
        "id": "rqsqd7P_JU_8",
        "colab": {
          "base_uri": "https://localhost:8080/"
        },
        "outputId": "216e4185-46b6-49f2-8611-57603818572f"
      },
      "outputs": [
        {
          "output_type": "stream",
          "name": "stderr",
          "text": [
            "/usr/local/lib/python3.10/dist-packages/tensorflow_addons/utils/tfa_eol_msg.py:23: UserWarning: \n",
            "\n",
            "TensorFlow Addons (TFA) has ended development and introduction of new features.\n",
            "TFA has entered a minimal maintenance and release mode until a planned end of life in May 2024.\n",
            "Please modify downstream libraries to take dependencies from other repositories in our TensorFlow community (e.g. Keras, Keras-CV, and Keras-NLP). \n",
            "\n",
            "For more information see: https://github.com/tensorflow/addons/issues/2807 \n",
            "\n",
            "  warnings.warn(\n"
          ]
        }
      ],
      "source": [
        "import tensorflow_addons as tfa\n",
        "\n",
        "metrics = [\n",
        "    tfa.metrics.F1Score(num_classes=1, threshold=0.5),\n",
        "    tf.keras.metrics.BinaryAccuracy(name='accuracy'),\n",
        "    tf.keras.metrics.Precision(name='precision'),\n",
        "    tf.keras.metrics.Recall(name='recall'),\n",
        "    tf.keras.metrics.AUC(),\n",
        "\n",
        "]"
      ]
    },
    {
      "cell_type": "code",
      "source": [
        "# Custom weighted binary cross-entropy\n",
        "from tensorflow.keras import backend as K\n",
        "\n",
        "def weighted_binary_crossentropy(weights):\n",
        "    def loss(y_true, y_pred):\n",
        "        y_true = tf.cast(y_true, tf.float32)\n",
        "        y_pred = tf.cast(y_pred, tf.float32)\n",
        "        epsilon = K.epsilon()\n",
        "        y_pred = K.clip(y_pred, epsilon, 1. - epsilon)\n",
        "\n",
        "        # Apply weights to the binary crossentropy\n",
        "        loss = y_true * weights[1] * K.binary_crossentropy(y_true, y_pred) + (1 - y_true) * weights[0] * K.binary_crossentropy(y_true, y_pred)\n",
        "\n",
        "        return K.mean(loss, axis=-1)\n",
        "    return loss\n"
      ],
      "metadata": {
        "id": "sOTf_V_w8h-x"
      },
      "execution_count": null,
      "outputs": []
    },
    {
      "cell_type": "code",
      "source": [
        "# Define focal loss\n",
        "from tensorflow.keras import backend as K\n",
        "\n",
        "def focal_loss(gamma=2., alpha=0.25):\n",
        "    def focal_loss_fixed(y_true, y_pred):\n",
        "        y_true = tf.cast(y_true, 'float32')\n",
        "        alpha_t = y_true * alpha + (K.ones_like(y_true) - y_true) * (1 - alpha)\n",
        "        p_t = y_true * y_pred + (K.ones_like(y_true) - y_true) * (K.ones_like(y_true) - y_pred)\n",
        "        focal_loss = - alpha_t * K.pow((K.ones_like(y_true) - p_t), gamma) * K.log(p_t)\n",
        "        return K.mean(focal_loss, axis=-1)\n",
        "    return focal_loss_fixed"
      ],
      "metadata": {
        "id": "vs12itCUdkJz"
      },
      "execution_count": null,
      "outputs": []
    },
    {
      "cell_type": "code",
      "source": [
        "loss_fn = focal_loss(gamma=2., alpha=0.25)"
      ],
      "metadata": {
        "id": "8GCMFSXPd1E0"
      },
      "execution_count": null,
      "outputs": []
    },
    {
      "cell_type": "code",
      "execution_count": null,
      "metadata": {
        "id": "X_FKs_2wJhS0"
      },
      "outputs": [],
      "source": [
        "import tensorflow as tf\n",
        "from tensorflow.keras.layers import Input, Dense, Concatenate, BatchNormalization, Dropout\n",
        "from tensorflow.keras.models import Model\n",
        "from tensorflow.keras import regularizers\n",
        "from tensorflow.keras.optimizers import Adam\n",
        "import tensorflow_addons as tfa\n",
        "\n",
        "# Define the model\n",
        "def build_model(transformer, max_len=192):\n",
        "    input_word_ids = Input(shape=(max_len,), dtype=tf.int32, name=\"input_word_ids\")\n",
        "    input_attention_mask = Input(shape=(max_len,), dtype=tf.int32, name=\"input_attention_mask\")\n",
        "    input_sentiment = Input(shape=(1,), dtype=tf.int32, name=\"input_sentiment\")\n",
        "\n",
        "    sequence_output = transformer([input_word_ids, input_attention_mask])[0]\n",
        "    cls_token = sequence_output[:, 0, :]\n",
        "\n",
        "    concatenated = Concatenate()([cls_token, tf.cast(input_sentiment, tf.float32)])\n",
        "    x = Dense(128, activation='relu', kernel_regularizer=regularizers.l2(0.04))(concatenated)\n",
        "    x = Dropout(0.6)(x)  # Increase dropout rate\n",
        "    x = Dense(64, activation='relu', kernel_regularizer=regularizers.l2(0.04))(x)\n",
        "    x = Dropout(0.6)(x)  # Additional dropout layer\n",
        "    out = Dense(1, activation='sigmoid')(x)\n",
        "\n",
        "    model = Model(inputs=[input_word_ids, input_attention_mask, input_sentiment], outputs=out)\n",
        "    model.compile(optimizer=Adam(learning_rate=1e-5), loss=loss_fn, metrics=metrics)\n",
        "    return model"
      ]
    },
    {
      "cell_type": "code",
      "source": [
        "# Compile the model with custom loss\n",
        "#loss_fn = weighted_binary_crossentropy(class_weights_dict)\n",
        "model = build_model(transformer=transformer_layer, max_len=128)"
      ],
      "metadata": {
        "id": "BfuxzkG59AZI"
      },
      "execution_count": null,
      "outputs": []
    },
    {
      "cell_type": "code",
      "source": [
        "model.summary()"
      ],
      "metadata": {
        "colab": {
          "base_uri": "https://localhost:8080/"
        },
        "id": "Go6PnOC3ih8H",
        "outputId": "07aeda33-7a55-44f8-82af-b93a8f3417cb"
      },
      "execution_count": null,
      "outputs": [
        {
          "output_type": "stream",
          "name": "stdout",
          "text": [
            "Model: \"model_1\"\n",
            "__________________________________________________________________________________________________\n",
            " Layer (type)                Output Shape                 Param #   Connected to                  \n",
            "==================================================================================================\n",
            " input_word_ids (InputLayer  [(None, 128)]                0         []                            \n",
            " )                                                                                                \n",
            "                                                                                                  \n",
            " input_attention_mask (Inpu  [(None, 128)]                0         []                            \n",
            " tLayer)                                                                                          \n",
            "                                                                                                  \n",
            " tf_bert_model (TFBertModel  TFBaseModelOutputWithPooli   1094822   ['input_word_ids[0][0]',      \n",
            " )                           ngAndCrossAttentions(last_   40         'input_attention_mask[0][0]']\n",
            "                             hidden_state=(None, 128, 7                                           \n",
            "                             68),                                                                 \n",
            "                              pooler_output=(None, 768)                                           \n",
            "                             , past_key_values=None, hi                                           \n",
            "                             dden_states=None, attentio                                           \n",
            "                             ns=None, cross_attentions=                                           \n",
            "                             None)                                                                \n",
            "                                                                                                  \n",
            " input_sentiment (InputLaye  [(None, 1)]                  0         []                            \n",
            " r)                                                                                               \n",
            "                                                                                                  \n",
            " tf.__operators__.getitem_1  (None, 768)                  0         ['tf_bert_model[0][0]']       \n",
            "  (SlicingOpLambda)                                                                               \n",
            "                                                                                                  \n",
            " tf.cast_1 (TFOpLambda)      (None, 1)                    0         ['input_sentiment[0][0]']     \n",
            "                                                                                                  \n",
            " concatenate_1 (Concatenate  (None, 769)                  0         ['tf.__operators__.getitem_1[0\n",
            " )                                                                  ][0]',                        \n",
            "                                                                     'tf.cast_1[0][0]']           \n",
            "                                                                                                  \n",
            " dense_3 (Dense)             (None, 128)                  98560     ['concatenate_1[0][0]']       \n",
            "                                                                                                  \n",
            " dropout_58 (Dropout)        (None, 128)                  0         ['dense_3[0][0]']             \n",
            "                                                                                                  \n",
            " dense_4 (Dense)             (None, 64)                   8256      ['dropout_58[0][0]']          \n",
            "                                                                                                  \n",
            " dropout_59 (Dropout)        (None, 64)                   0         ['dense_4[0][0]']             \n",
            "                                                                                                  \n",
            " dense_5 (Dense)             (None, 1)                    65        ['dropout_59[0][0]']          \n",
            "                                                                                                  \n",
            "==================================================================================================\n",
            "Total params: 109589121 (418.05 MB)\n",
            "Trainable params: 109589121 (418.05 MB)\n",
            "Non-trainable params: 0 (0.00 Byte)\n",
            "__________________________________________________________________________________________________\n"
          ]
        }
      ]
    },
    {
      "cell_type": "code",
      "source": [
        "from tensorflow.keras.utils import plot_model\n",
        "\n",
        "plot_model(model, to_file='modeldistilbert_architecture.png', show_shapes=True, show_layer_names=True)"
      ],
      "metadata": {
        "colab": {
          "base_uri": "https://localhost:8080/",
          "height": 976
        },
        "id": "a2ZZqAz2ar8e",
        "outputId": "05ebcd62-54d0-4a3a-8cb6-04cf9f42eb90"
      },
      "execution_count": null,
      "outputs": [
        {
          "output_type": "execute_result",
          "data": {
            "image/png": "[encoded data removed]",
            "text/plain": [
              "<IPython.core.display.Image object>"
            ]
          },
          "metadata": {},
          "execution_count": 26
        }
      ]
    },
    {
      "cell_type": "code",
      "source": [
        "from tensorflow.keras.callbacks import EarlyStopping, ReduceLROnPlateau\n",
        "early_stopping = EarlyStopping(monitor='val_loss', patience=5, restore_best_weights=True)\n",
        "reduce_lr = ReduceLROnPlateau(monitor='val_loss', factor=0.5, patience=2, min_lr=1e-7, verbose=1)"
      ],
      "metadata": {
        "id": "xMo7FqkoK9_L"
      },
      "execution_count": null,
      "outputs": []
    },
    {
      "cell_type": "code",
      "execution_count": null,
      "metadata": {
        "colab": {
          "base_uri": "https://localhost:8080/"
        },
        "id": "kLmeEIQ9ttLB",
        "outputId": "433835f3-1dbd-4837-fa24-ed08548a0a82"
      },
      "outputs": [
        {
          "metadata": {
            "tags": null
          },
          "name": "stdout",
          "output_type": "stream",
          "text": [
            "Epoch 1/20\n"
          ]
        },
        {
          "metadata": {
            "tags": null
          },
          "name": "stderr",
          "output_type": "stream",
          "text": [
            "WARNING:tensorflow:Gradients do not exist for variables ['tf_bert_model/bert/pooler/dense/kernel:0', 'tf_bert_model/bert/pooler/dense/bias:0'] when minimizing the loss. If you're using `model.compile()`, did you forget to provide a `loss` argument?\n",
            "WARNING:tensorflow:Gradients do not exist for variables ['tf_bert_model/bert/pooler/dense/kernel:0', 'tf_bert_model/bert/pooler/dense/bias:0'] when minimizing the loss. If you're using `model.compile()`, did you forget to provide a `loss` argument?\n",
            "WARNING:tensorflow:Gradients do not exist for variables ['tf_bert_model/bert/pooler/dense/kernel:0', 'tf_bert_model/bert/pooler/dense/bias:0'] when minimizing the loss. If you're using `model.compile()`, did you forget to provide a `loss` argument?\n",
            "WARNING:tensorflow:Gradients do not exist for variables ['tf_bert_model/bert/pooler/dense/kernel:0', 'tf_bert_model/bert/pooler/dense/bias:0'] when minimizing the loss. If you're using `model.compile()`, did you forget to provide a `loss` argument?\n"
          ]
        },
        {
          "output_type": "stream",
          "name": "stdout",
          "text": [
            "3305/3305 [==============================] - 1484s 437ms/step - loss: 7.7901 - f1_score: 0.7670 - accuracy: 0.7989 - precision: 0.9252 - recall: 0.6550 - auc: 0.9131 - val_loss: 4.4030 - val_f1_score: 0.8467 - val_accuracy: 0.8574 - val_precision: 0.9805 - val_recall: 0.7450 - val_auc: 0.9629 - lr: 1.0000e-05\n",
            "Epoch 2/20\n",
            "3305/3305 [==============================] - 1445s 437ms/step - loss: 2.6185 - f1_score: 0.8464 - accuracy: 0.8636 - precision: 0.9690 - recall: 0.7513 - auc: 0.9568 - val_loss: 1.3660 - val_f1_score: 0.8477 - val_accuracy: 0.8587 - val_precision: 0.9853 - val_recall: 0.7438 - val_auc: 0.9683 - lr: 1.0000e-05\n",
            "Epoch 3/20\n",
            "3305/3305 [==============================] - 1443s 436ms/step - loss: 0.8161 - f1_score: 0.8830 - accuracy: 0.8932 - precision: 0.9759 - recall: 0.8063 - auc: 0.9678 - val_loss: 0.4571 - val_f1_score: 0.8912 - val_accuracy: 0.8928 - val_precision: 0.9618 - val_recall: 0.8302 - val_auc: 0.9684 - lr: 1.0000e-05\n",
            "Epoch 4/20\n",
            "3305/3305 [==============================] - 1443s 437ms/step - loss: 0.2841 - f1_score: 0.9109 - accuracy: 0.9166 - precision: 0.9783 - recall: 0.8521 - auc: 0.9775 - val_loss: 0.1652 - val_f1_score: 0.8933 - val_accuracy: 0.8948 - val_precision: 0.9627 - val_recall: 0.8332 - val_auc: 0.9672 - lr: 1.0000e-05\n",
            "Epoch 5/20\n",
            "3305/3305 [==============================] - 1443s 437ms/step - loss: 0.0924 - f1_score: 0.9403 - accuracy: 0.9428 - precision: 0.9836 - recall: 0.9006 - auc: 0.9869 - val_loss: 0.0658 - val_f1_score: 0.9031 - val_accuracy: 0.9008 - val_precision: 0.9335 - val_recall: 0.8745 - val_auc: 0.9612 - lr: 1.0000e-05\n",
            "Epoch 6/20\n",
            "3305/3305 [==============================] - 1443s 437ms/step - loss: 0.0308 - f1_score: 0.9652 - accuracy: 0.9659 - precision: 0.9861 - recall: 0.9452 - auc: 0.9927 - val_loss: 0.0438 - val_f1_score: 0.8969 - val_accuracy: 0.8958 - val_precision: 0.9407 - val_recall: 0.8569 - val_auc: 0.9619 - lr: 1.0000e-05\n",
            "Epoch 7/20\n",
            "3305/3305 [==============================] - 1444s 437ms/step - loss: 0.0183 - f1_score: 0.9783 - accuracy: 0.9786 - precision: 0.9915 - recall: 0.9654 - auc: 0.9952 - val_loss: 0.0492 - val_f1_score: 0.8926 - val_accuracy: 0.8923 - val_precision: 0.9432 - val_recall: 0.8472 - val_auc: 0.9598 - lr: 1.0000e-05\n",
            "Epoch 8/20\n",
            "3305/3305 [==============================] - ETA: 0s - loss: 0.0153 - f1_score: 0.9840 - accuracy: 0.9842 - precision: 0.9939 - recall: 0.9743 - auc: 0.9965\n",
            "Epoch 8: ReduceLROnPlateau reducing learning rate to 4.999999873689376e-06.\n",
            "3305/3305 [==============================] - 1443s 437ms/step - loss: 0.0153 - f1_score: 0.9840 - accuracy: 0.9842 - precision: 0.9939 - recall: 0.9743 - auc: 0.9965 - val_loss: 0.0508 - val_f1_score: 0.9019 - val_accuracy: 0.8963 - val_precision: 0.9020 - val_recall: 0.9017 - val_auc: 0.9518 - lr: 1.0000e-05\n",
            "Epoch 9/20\n",
            "3305/3305 [==============================] - 1442s 436ms/step - loss: 0.0130 - f1_score: 0.9914 - accuracy: 0.9914 - precision: 0.9962 - recall: 0.9866 - auc: 0.9977 - val_loss: 0.0557 - val_f1_score: 0.9033 - val_accuracy: 0.8993 - val_precision: 0.9172 - val_recall: 0.8897 - val_auc: 0.9601 - lr: 5.0000e-06\n",
            "Epoch 10/20\n",
            "3305/3305 [==============================] - ETA: 0s - loss: 0.0118 - f1_score: 0.9939 - accuracy: 0.9940 - precision: 0.9975 - recall: 0.9904 - auc: 0.9980\n",
            "Epoch 10: ReduceLROnPlateau reducing learning rate to 2.499999936844688e-06.\n",
            "3305/3305 [==============================] - 1443s 437ms/step - loss: 0.0118 - f1_score: 0.9939 - accuracy: 0.9940 - precision: 0.9975 - recall: 0.9904 - auc: 0.9980 - val_loss: 0.0547 - val_f1_score: 0.8998 - val_accuracy: 0.8966 - val_precision: 0.9216 - val_recall: 0.8791 - val_auc: 0.9467 - lr: 5.0000e-06\n",
            "Epoch 11/20\n",
            "3305/3305 [==============================] - 1443s 436ms/step - loss: 0.0110 - f1_score: 0.9956 - accuracy: 0.9956 - precision: 0.9981 - recall: 0.9931 - auc: 0.9982 - val_loss: 0.0561 - val_f1_score: 0.9055 - val_accuracy: 0.9023 - val_precision: 0.9268 - val_recall: 0.8851 - val_auc: 0.9452 - lr: 2.5000e-06\n"
          ]
        }
      ],
      "source": [
        "n_steps = X_train_res.shape[0] // BATCH_SIZE\n",
        "train_history = model.fit(\n",
        "    train_dataset,\n",
        "    steps_per_epoch=n_steps,\n",
        "    validation_data=valid_dataset,\n",
        "    epochs=20,\n",
        "    callbacks=[early_stopping, reduce_lr]\n",
        ")"
      ]
    },
    {
      "cell_type": "code",
      "source": [
        "#save the model\n",
        "directory = '/content/drive/MyDrive/PFE/'\n",
        "model.save(directory + 'FinalModel.h5')"
      ],
      "metadata": {
        "id": "QBW-uPNuLuxq",
        "colab": {
          "base_uri": "https://localhost:8080/"
        },
        "outputId": "b50c9f33-31b6-484a-c420-03301be03db1"
      },
      "execution_count": null,
      "outputs": [
        {
          "output_type": "stream",
          "name": "stderr",
          "text": [
            "/usr/local/lib/python3.10/dist-packages/keras/src/engine/training.py:3103: UserWarning: You are saving your model as an HDF5 file via `model.save()`. This file format is considered legacy. We recommend using instead the native Keras format, e.g. `model.save('my_model.keras')`.\n",
            "  saving_api.save_model(\n"
          ]
        }
      ]
    },
    {
      "cell_type": "code",
      "source": [
        "model.save_weights('/content/drive/MyDrive/PFE/Finalweights.h5')"
      ],
      "metadata": {
        "id": "Ig_hDWRMG_Ar"
      },
      "execution_count": null,
      "outputs": []
    },
    {
      "cell_type": "code",
      "source": [
        "history = train_history.history\n",
        "\n",
        "# Plot training & validation accuracy values\n",
        "plt.figure(figsize=(14, 5))\n",
        "plt.subplot(1, 2, 1)\n",
        "plt.plot(history['accuracy'])\n",
        "plt.plot(history['val_accuracy'])\n",
        "plt.title('Model accuracy')\n",
        "plt.xlabel('Epoch')\n",
        "plt.ylabel('Accuracy')\n",
        "plt.legend(['Train', 'Validation'], loc='upper left')\n",
        "\n",
        "# Plot training & validation loss values\n",
        "plt.subplot(1, 2, 2)\n",
        "plt.plot(history['loss'])\n",
        "plt.plot(history['val_loss'])\n",
        "plt.title('Model loss')\n",
        "plt.xlabel('Epoch')\n",
        "plt.ylabel('Loss')\n",
        "plt.legend(['Train', 'Validation'], loc='upper left')\n",
        "\n",
        "plt.tight_layout()\n",
        "plt.show()"
      ],
      "metadata": {
        "colab": {
          "base_uri": "https://localhost:8080/",
          "height": 507
        },
        "id": "dFmBNsKOHdYq",
        "outputId": "651248b1-587f-4ee5-8ce8-f9c47ae1d6b2"
      },
      "execution_count": null,
      "outputs": [
        {
          "output_type": "display_data",
          "data": {
            "text/plain": [
              "<Figure size 1400x500 with 2 Axes>"
            ],
            "image/png": "[encoded data removed]"
          },
          "metadata": {}
        }
      ]
    },
    {
      "cell_type": "markdown",
      "source": [
        "## Evaluation"
      ],
      "metadata": {
        "id": "EKDJXsImSw-y"
      }
    },
    {
      "cell_type": "markdown",
      "source": [
        "### Results on our dataset (in-door)\n",
        "\n"
      ],
      "metadata": {
        "id": "jK9jdvD6HMdq"
      }
    },
    {
      "cell_type": "markdown",
      "source": [
        "**1. Validation set**"
      ],
      "metadata": {
        "id": "q2WaSrAETOjA"
      }
    },
    {
      "cell_type": "code",
      "source": [
        "from sklearn.metrics import classification_report\n",
        "\n",
        "# Predict on the validation set\n",
        "y_pred_val = model.predict(valid_dataset)\n",
        "y_pred_val = (y_pred_val > 0.5).astype(int)\n",
        "\n",
        "# Generate classification report\n",
        "report = classification_report(y_val, y_pred_val, target_names=['Not Cyberbullying', 'Cyberbullying'])\n",
        "print(report)"
      ],
      "metadata": {
        "colab": {
          "base_uri": "https://localhost:8080/"
        },
        "outputId": "15b0e4b1-679d-43f7-f7ac-bca81304bbab",
        "id": "1_4agx8HHMeJ"
      },
      "execution_count": null,
      "outputs": [
        {
          "output_type": "stream",
          "name": "stdout",
          "text": [
            "671/671 [==============================] - 50s 72ms/step\n",
            "                   precision    recall  f1-score   support\n",
            "\n",
            "Not Cyberbullying       0.87      0.92      0.89      5054\n",
            "    Cyberbullying       0.92      0.88      0.90      5667\n",
            "\n",
            "         accuracy                           0.90     10721\n",
            "        macro avg       0.90      0.90      0.90     10721\n",
            "     weighted avg       0.90      0.90      0.90     10721\n",
            "\n"
          ]
        }
      ]
    },
    {
      "cell_type": "code",
      "source": [
        "results = model.evaluate(valid_dataset)\n",
        "\n",
        "print(\"valid Loss:\", results[0])\n",
        "print(\"valid F1 Score:\", results[1])\n",
        "print(\"valid Accuracy:\", results[2])\n",
        "print(\"valid Precision:\", results[3])\n",
        "print(\"valid Recall:\", results[4])"
      ],
      "metadata": {
        "colab": {
          "base_uri": "https://localhost:8080/"
        },
        "outputId": "ec6cf7c2-f0aa-4702-d75c-9b14e0a804a1",
        "id": "bcb2oTMBHMeK"
      },
      "execution_count": null,
      "outputs": [
        {
          "output_type": "stream",
          "name": "stdout",
          "text": [
            "671/671 [==============================] - 50s 75ms/step - loss: 0.0486 - f1_score: 0.8995 - accuracy: 0.8964 - precision: 0.9225 - recall: 0.8777 - auc: 0.9569\n",
            "valid Loss: 0.0486002191901207\n",
            "valid F1 Score: [0.8995388]\n",
            "valid Accuracy: 0.896371603012085\n",
            "valid Precision: 0.9224777221679688\n",
            "valid Recall: 0.8777130842208862\n"
          ]
        }
      ]
    },
    {
      "cell_type": "code",
      "execution_count": null,
      "metadata": {
        "colab": {
          "base_uri": "https://localhost:8080/",
          "height": 564
        },
        "outputId": "656c8ed2-2599-41f0-a0a0-9b6744fe7978",
        "id": "JaA6Yqn7HMeK"
      },
      "outputs": [
        {
          "output_type": "display_data",
          "data": {
            "text/plain": [
              "<Figure size 800x600 with 2 Axes>"
            ],
            "image/png": "[encoded data removed]"
          },
          "metadata": {}
        }
      ],
      "source": [
        "from sklearn.metrics import confusion_matrix\n",
        "# Generate the confusion matrix for the validation set\n",
        "cm_test = confusion_matrix(y_val, y_pred_val)\n",
        "# Plot the confusion matrix for the validation set\n",
        "plt.figure(figsize=(8, 6))\n",
        "sns.heatmap(cm_test, annot=True, fmt='d', cmap='Blues', xticklabels=['Not Cyberbullying', 'Cyberbullying'], yticklabels=['Not Cyberbullying', 'Cyberbullying'])\n",
        "plt.xlabel('Predicted')\n",
        "plt.ylabel('True')\n",
        "plt.title('Confusion Matrix - validation Set')\n",
        "plt.show()\n",
        "\n"
      ]
    },
    {
      "cell_type": "markdown",
      "source": [
        "**2. Test set**"
      ],
      "metadata": {
        "id": "HVBWf19BDi6A"
      }
    },
    {
      "cell_type": "code",
      "source": [
        "test_dataset = (\n",
        "    tf.data.Dataset\n",
        "    .from_tensor_slices(({\n",
        "        'input_word_ids': tf.constant(x_test_enc['input_ids']),\n",
        "        'input_attention_mask': tf.constant(x_test_enc['attention_mask']),\n",
        "        'input_sentiment': tf.constant(sent_test, dtype=tf.int32)\n",
        "     } , y_test))\n",
        "    .batch(BATCH_SIZE)\n",
        ")"
      ],
      "metadata": {
        "id": "czPg_EDF4drV"
      },
      "execution_count": null,
      "outputs": []
    },
    {
      "cell_type": "code",
      "source": [
        "from sklearn.metrics import classification_report\n",
        "\n",
        "# Predict on the validation set\n",
        "y_pred_test = model.predict(test_dataset)\n",
        "y_pred_test = (y_pred_test > 0.5).astype(int)\n",
        "\n",
        "# Generate classification report\n",
        "report = classification_report(y_test, y_pred_test, target_names=['Not Cyberbullying', 'Cyberbullying'])\n",
        "print(report)"
      ],
      "metadata": {
        "colab": {
          "base_uri": "https://localhost:8080/"
        },
        "id": "9W0q1YhZ43xv",
        "outputId": "b5c78068-90bd-477d-bd08-aab081985153"
      },
      "execution_count": null,
      "outputs": [
        {
          "output_type": "stream",
          "name": "stdout",
          "text": [
            "670/670 [==============================] - 48s 71ms/step\n",
            "                   precision    recall  f1-score   support\n",
            "\n",
            "Not Cyberbullying       0.86      0.92      0.89      5054\n",
            "    Cyberbullying       0.93      0.87      0.90      5666\n",
            "\n",
            "         accuracy                           0.89     10720\n",
            "        macro avg       0.90      0.90      0.89     10720\n",
            "     weighted avg       0.90      0.89      0.89     10720\n",
            "\n"
          ]
        }
      ]
    },
    {
      "cell_type": "code",
      "source": [
        "from sklearn.metrics import confusion_matrix\n",
        "# Generate the confusion matrix for the validation set\n",
        "cm_test = confusion_matrix(y_test, y_pred_test)\n",
        "# Plot the confusion matrix for the validation set\n",
        "plt.figure(figsize=(8, 6))\n",
        "sns.heatmap(cm_test, annot=True, fmt='d', cmap='Blues', xticklabels=['Not Cyberbullying', 'Cyberbullying'], yticklabels=['Not Cyberbullying', 'Cyberbullying'])\n",
        "plt.xlabel('Predicted')\n",
        "plt.ylabel('True')\n",
        "plt.title('Confusion Matrix - Test Set')\n",
        "plt.show()"
      ],
      "metadata": {
        "colab": {
          "base_uri": "https://localhost:8080/",
          "height": 564
        },
        "id": "NHgcz2O25QVN",
        "outputId": "4b2e102e-60e0-4b2c-c04e-ecf420231db0"
      },
      "execution_count": null,
      "outputs": [
        {
          "output_type": "display_data",
          "data": {
            "text/plain": [
              "<Figure size 800x600 with 2 Axes>"
            ],
            "image/png": "[encoded data removed]"
          },
          "metadata": {}
        }
      ]
    },
    {
      "cell_type": "code",
      "source": [
        "results = model.evaluate(test_dataset)\n",
        "\n",
        "print(\"Test Loss:\", results[0])\n",
        "print(\"Test F1 Score:\", results[1])\n",
        "print(\"Test Accuracy:\", results[2])\n",
        "print(\"Test Precision:\", results[3])\n",
        "print(\"Test Recall:\", results[4])"
      ],
      "metadata": {
        "colab": {
          "base_uri": "https://localhost:8080/"
        },
        "id": "xrJjdo-j5Vgo",
        "outputId": "66663d47-4d92-48b6-9bd3-955766ac306e"
      },
      "execution_count": null,
      "outputs": [
        {
          "output_type": "stream",
          "name": "stdout",
          "text": [
            "670/670 [==============================] - 50s 74ms/step - loss: 0.0486 - f1_score: 0.8972 - accuracy: 0.8948 - precision: 0.9275 - recall: 0.8689 - auc: 0.9548\n",
            "Test Loss: 0.04858335852622986\n",
            "Test F1 Score: [0.89721155]\n",
            "Test Accuracy: 0.8947761058807373\n",
            "Test Precision: 0.9274680018424988\n",
            "Test Recall: 0.8688669204711914\n"
          ]
        }
      ]
    },
    {
      "cell_type": "markdown",
      "source": [
        "### Results on another complete different dataset:\n",
        "The data here is from twitter and facebook and the distribution is the inverse of ours where the non_cyberbulliyng class is the majority class"
      ],
      "metadata": {
        "id": "m77sIw1KyyDj"
      }
    },
    {
      "cell_type": "code",
      "source": [
        "data = pd.read_csv('/content/drive/MyDrive/PFE/Data/evaluation/fb_twitter.csv')\n",
        "from tensorflow.keras.models import load_model\n",
        "from transformers import TFDistilBertModel\n",
        "from tensorflow.keras.utils import custom_object_scope\n",
        "import tensorflow_addons as tfa\n",
        "\n",
        "# Define custom objects\n",
        "custom_objects = {\n",
        "    'TFDistilBertModel': TFDistilBertModel,\n",
        "    'Addons>F1Score': tfa.metrics.F1Score,\n",
        "    'focal_loss_fixed': focal_loss(gamma=2., alpha=0.75)\n",
        "}\n",
        "\n",
        "with custom_object_scope(custom_objects):\n",
        "    model = load_model('/content/drive/MyDrive/PFE/FinalModel.h5')"
      ],
      "metadata": {
        "id": "J7cgOTA3y1pp"
      },
      "execution_count": null,
      "outputs": []
    },
    {
      "cell_type": "code",
      "source": [
        "data.dropna(inplace=True)"
      ],
      "metadata": {
        "id": "xCXPdM82zCz3"
      },
      "execution_count": null,
      "outputs": []
    },
    {
      "cell_type": "code",
      "source": [
        "X = data['cleaned_text'].values.astype(str)\n",
        "y = data['label'].values\n",
        "sentiment = data['sentiment'].values"
      ],
      "metadata": {
        "id": "sLaWao64zGeN"
      },
      "execution_count": null,
      "outputs": []
    },
    {
      "cell_type": "code",
      "source": [
        "X_enc = tokenizer(X.tolist(), truncation=True, padding='max_length', max_length=128, return_tensors='tf')"
      ],
      "metadata": {
        "id": "t-sqpLPFzI11"
      },
      "execution_count": null,
      "outputs": []
    },
    {
      "cell_type": "code",
      "source": [
        "X_test = X_enc['input_ids']\n",
        "X_test_attention_masks = X_enc['attention_mask']"
      ],
      "metadata": {
        "id": "gIiBAwAIzLNV"
      },
      "execution_count": null,
      "outputs": []
    },
    {
      "cell_type": "code",
      "source": [
        "evaluation_dataset = (\n",
        "    tf.data.Dataset\n",
        "    .from_tensor_slices(({\n",
        "        'input_word_ids': tf.constant(X_test),\n",
        "        'input_attention_mask': tf.constant(X_test_attention_masks),\n",
        "        'input_sentiment': tf.constant(sentiment, dtype=tf.int32)\n",
        "    }, y))\n",
        "    .batch(BATCH_SIZE)\n",
        ")"
      ],
      "metadata": {
        "id": "I9t5iQUdzNzT"
      },
      "execution_count": null,
      "outputs": []
    },
    {
      "cell_type": "code",
      "source": [
        "y_evaluate_probs = model.predict(evaluation_dataset)\n",
        "y_evaluate_probs = y_evaluate_probs.reshape(-1, 1)"
      ],
      "metadata": {
        "colab": {
          "base_uri": "https://localhost:8080/"
        },
        "id": "S-BAB5LY2ZIy",
        "outputId": "ba59d4f5-1493-438d-df58-a428fb19faab"
      },
      "execution_count": null,
      "outputs": [
        {
          "output_type": "stream",
          "name": "stdout",
          "text": [
            "879/879 [==============================] - 60s 69ms/step\n"
          ]
        }
      ]
    },
    {
      "cell_type": "code",
      "source": [
        "from sklearn.metrics import roc_curve\n",
        "\n",
        "fpr, tpr, thresholds = roc_curve(y, calibrated_new_probs)\n",
        "optimal_idx = np.argmax(tpr - fpr)\n",
        "optimal_threshold = thresholds[optimal_idx]\n",
        "\n",
        "print('Optimal Threshold:', optimal_threshold)\n",
        "\n"
      ],
      "metadata": {
        "colab": {
          "base_uri": "https://localhost:8080/"
        },
        "id": "Zqi_QMOf6HvL",
        "outputId": "759d1636-a07a-4923-ae96-0bef2b29a110"
      },
      "execution_count": null,
      "outputs": [
        {
          "output_type": "stream",
          "name": "stdout",
          "text": [
            "Optimal Threshold: 0.232788957023047\n"
          ]
        }
      ]
    },
    {
      "cell_type": "code",
      "source": [
        "calibrated_new_probs = platt_model.predict_proba(y_evaluate_probs)[:, 1]"
      ],
      "metadata": {
        "id": "beeiQFre4RBm"
      },
      "execution_count": null,
      "outputs": []
    },
    {
      "cell_type": "code",
      "source": [
        "from sklearn.metrics import accuracy_score, f1_score, precision_score, recall_score, brier_score_loss\n",
        "\n",
        "# Example metrics\n",
        "accuracy = accuracy_score(y, calibrated_new_probs.round())\n",
        "f1 = f1_score(y, calibrated_new_probs.round(), average='weighted')\n",
        "precision = precision_score(y, calibrated_new_probs.round(), average='weighted')\n",
        "recall = recall_score(y, calibrated_new_probs.round(), average='weighted')\n",
        "brier_score = brier_score_loss(y, calibrated_new_probs)\n",
        "\n",
        "# Print evaluation metrics\n",
        "print('Accuracy:', accuracy)\n",
        "print('F1 Score:', f1)\n",
        "print('Precision:', precision)\n",
        "print('Recall:', recall)\n",
        "print('Brier Score:', brier_score)"
      ],
      "metadata": {
        "colab": {
          "base_uri": "https://localhost:8080/"
        },
        "id": "8ppu8iM53wJ_",
        "outputId": "9a981550-92d0-4dbb-9c99-e32173472b5b"
      },
      "execution_count": null,
      "outputs": [
        {
          "output_type": "stream",
          "name": "stdout",
          "text": [
            "Accuracy: 0.7492533067842412\n",
            "F1 Score: 0.7484289904206519\n",
            "Precision: 0.7476199233666777\n",
            "Recall: 0.7492533067842412\n",
            "Brier Score: 0.17676097409981253\n"
          ]
        }
      ]
    },
    {
      "cell_type": "code",
      "source": [
        "y_pred_test = (calibrated_new_probs > 0.23).astype(int)"
      ],
      "metadata": {
        "id": "-3esT5qB4zYU"
      },
      "execution_count": null,
      "outputs": []
    },
    {
      "cell_type": "code",
      "source": [
        "from sklearn.metrics import classification_report, confusion_matrix\n",
        "import seaborn as sns\n",
        "import matplotlib.pyplot as plt\n",
        "# Generate the confusion matrix\n",
        "cm_test = confusion_matrix(y, y_pred_test)\n",
        "\n",
        "# Print classification report\n",
        "report_test = classification_report(y, y_pred_test, target_names=['Not Cyberbullying', 'Cyberbullying'])\n",
        "print(report_test)\n",
        "\n",
        "# Plot confusion matrix\n",
        "plt.figure(figsize=(8, 6))\n",
        "sns.heatmap(cm_test, annot=True, fmt='d', cmap='Blues', xticklabels=['Not Cyberbullying', 'Cyberbullying'], yticklabels=['Not Cyberbullying', 'Cyberbullying'])\n",
        "plt.xlabel('Predicted')\n",
        "plt.ylabel('True')\n",
        "plt.title('Confusion Matrix - Test Set')\n",
        "plt.show()"
      ],
      "metadata": {
        "colab": {
          "base_uri": "https://localhost:8080/",
          "height": 720
        },
        "id": "CdRF5ZDo5S4z",
        "outputId": "13ed0651-8b21-4d58-b164-6b43f881e6f4"
      },
      "execution_count": null,
      "outputs": [
        {
          "output_type": "stream",
          "name": "stdout",
          "text": [
            "                   precision    recall  f1-score   support\n",
            "\n",
            "Not Cyberbullying       0.86      0.67      0.75     11363\n",
            "    Cyberbullying       0.28      0.54      0.37      2699\n",
            "\n",
            "         accuracy                           0.64     14062\n",
            "        macro avg       0.57      0.60      0.56     14062\n",
            "     weighted avg       0.75      0.64      0.68     14062\n",
            "\n"
          ]
        },
        {
          "output_type": "display_data",
          "data": {
            "text/plain": [
              "<Figure size 800x600 with 2 Axes>"
            ],
            "image/png": "[encoded data removed]"
          },
          "metadata": {}
        }
      ]
    }
  ],
  "metadata": {
    "accelerator": "GPU",
    "colab": {
      "gpuType": "T4",
      "machine_shape": "hm",
      "provenance": [],
      "collapsed_sections": [
        "gPNCR6RwWPYC"
      ],
      "include_colab_link": true
    },
    "kernelspec": {
      "display_name": "Python 3",
      "name": "python3"
    },
    "language_info": {
      "name": "python"
    },
    "widgets": {
      "application/vnd.jupyter.widget-state+json": {
        "fc23246cf8094f85a20a361112de1173": {
          "model_module": "@jupyter-widgets/controls",
          "model_name": "HBoxModel",
          "model_module_version": "1.5.0",
          "state": {
            "_dom_classes": [],
            "_model_module": "@jupyter-widgets/controls",
            "_model_module_version": "1.5.0",
            "_model_name": "HBoxModel",
            "_view_count": null,
            "_view_module": "@jupyter-widgets/controls",
            "_view_module_version": "1.5.0",
            "_view_name": "HBoxView",
            "box_style": "",
            "children": [
              "IPY_MODEL_2d74ceec0ca94d3692a939db3261c4a1",
              "IPY_MODEL_56d175f833434780baf7518f5ce0643e",
              "IPY_MODEL_dda4b76dfa7947999cf1d5e11fc6a39a"
            ],
            "layout": "IPY_MODEL_6660740313454ae98b9a040d2d6f1452"
          }
        },
        "2d74ceec0ca94d3692a939db3261c4a1": {
          "model_module": "@jupyter-widgets/controls",
          "model_name": "HTMLModel",
          "model_module_version": "1.5.0",
          "state": {
            "_dom_classes": [],
            "_model_module": "@jupyter-widgets/controls",
            "_model_module_version": "1.5.0",
            "_model_name": "HTMLModel",
            "_view_count": null,
            "_view_module": "@jupyter-widgets/controls",
            "_view_module_version": "1.5.0",
            "_view_name": "HTMLView",
            "description": "",
            "description_tooltip": null,
            "layout": "IPY_MODEL_a0e837e5d3e040c49b4994fae9eba2ef",
            "placeholder": "​",
            "style": "IPY_MODEL_9b43ce5f6df24740a685d98339170f79",
            "value": "model.safetensors: 100%"
          }
        },
        "56d175f833434780baf7518f5ce0643e": {
          "model_module": "@jupyter-widgets/controls",
          "model_name": "FloatProgressModel",
          "model_module_version": "1.5.0",
          "state": {
            "_dom_classes": [],
            "_model_module": "@jupyter-widgets/controls",
            "_model_module_version": "1.5.0",
            "_model_name": "FloatProgressModel",
            "_view_count": null,
            "_view_module": "@jupyter-widgets/controls",
            "_view_module_version": "1.5.0",
            "_view_name": "ProgressView",
            "bar_style": "success",
            "description": "",
            "description_tooltip": null,
            "layout": "IPY_MODEL_75bade28d656419ebd3644a1ebbb018d",
            "max": 440449768,
            "min": 0,
            "orientation": "horizontal",
            "style": "IPY_MODEL_802530a8c67d411abe86f87937858aff",
            "value": 440449768
          }
        },
        "dda4b76dfa7947999cf1d5e11fc6a39a": {
          "model_module": "@jupyter-widgets/controls",
          "model_name": "HTMLModel",
          "model_module_version": "1.5.0",
          "state": {
            "_dom_classes": [],
            "_model_module": "@jupyter-widgets/controls",
            "_model_module_version": "1.5.0",
            "_model_name": "HTMLModel",
            "_view_count": null,
            "_view_module": "@jupyter-widgets/controls",
            "_view_module_version": "1.5.0",
            "_view_name": "HTMLView",
            "description": "",
            "description_tooltip": null,
            "layout": "IPY_MODEL_688482fe77bf4b389fc73762ddd8d972",
            "placeholder": "​",
            "style": "IPY_MODEL_cebe70508efb473f84ba4238219e77be",
            "value": " 440M/440M [00:01&lt;00:00, 320MB/s]"
          }
        },
        "6660740313454ae98b9a040d2d6f1452": {
          "model_module": "@jupyter-widgets/base",
          "model_name": "LayoutModel",
          "model_module_version": "1.2.0",
          "state": {
            "_model_module": "@jupyter-widgets/base",
            "_model_module_version": "1.2.0",
            "_model_name": "LayoutModel",
            "_view_count": null,
            "_view_module": "@jupyter-widgets/base",
            "_view_module_version": "1.2.0",
            "_view_name": "LayoutView",
            "align_content": null,
            "align_items": null,
            "align_self": null,
            "border": null,
            "bottom": null,
            "display": null,
            "flex": null,
            "flex_flow": null,
            "grid_area": null,
            "grid_auto_columns": null,
            "grid_auto_flow": null,
            "grid_auto_rows": null,
            "grid_column": null,
            "grid_gap": null,
            "grid_row": null,
            "grid_template_areas": null,
            "grid_template_columns": null,
            "grid_template_rows": null,
            "height": null,
            "justify_content": null,
            "justify_items": null,
            "left": null,
            "margin": null,
            "max_height": null,
            "max_width": null,
            "min_height": null,
            "min_width": null,
            "object_fit": null,
            "object_position": null,
            "order": null,
            "overflow": null,
            "overflow_x": null,
            "overflow_y": null,
            "padding": null,
            "right": null,
            "top": null,
            "visibility": null,
            "width": null
          }
        },
        "a0e837e5d3e040c49b4994fae9eba2ef": {
          "model_module": "@jupyter-widgets/base",
          "model_name": "LayoutModel",
          "model_module_version": "1.2.0",
          "state": {
            "_model_module": "@jupyter-widgets/base",
            "_model_module_version": "1.2.0",
            "_model_name": "LayoutModel",
            "_view_count": null,
            "_view_module": "@jupyter-widgets/base",
            "_view_module_version": "1.2.0",
            "_view_name": "LayoutView",
            "align_content": null,
            "align_items": null,
            "align_self": null,
            "border": null,
            "bottom": null,
            "display": null,
            "flex": null,
            "flex_flow": null,
            "grid_area": null,
            "grid_auto_columns": null,
            "grid_auto_flow": null,
            "grid_auto_rows": null,
            "grid_column": null,
            "grid_gap": null,
            "grid_row": null,
            "grid_template_areas": null,
            "grid_template_columns": null,
            "grid_template_rows": null,
            "height": null,
            "justify_content": null,
            "justify_items": null,
            "left": null,
            "margin": null,
            "max_height": null,
            "max_width": null,
            "min_height": null,
            "min_width": null,
            "object_fit": null,
            "object_position": null,
            "order": null,
            "overflow": null,
            "overflow_x": null,
            "overflow_y": null,
            "padding": null,
            "right": null,
            "top": null,
            "visibility": null,
            "width": null
          }
        },
        "9b43ce5f6df24740a685d98339170f79": {
          "model_module": "@jupyter-widgets/controls",
          "model_name": "DescriptionStyleModel",
          "model_module_version": "1.5.0",
          "state": {
            "_model_module": "@jupyter-widgets/controls",
            "_model_module_version": "1.5.0",
            "_model_name": "DescriptionStyleModel",
            "_view_count": null,
            "_view_module": "@jupyter-widgets/base",
            "_view_module_version": "1.2.0",
            "_view_name": "StyleView",
            "description_width": ""
          }
        },
        "75bade28d656419ebd3644a1ebbb018d": {
          "model_module": "@jupyter-widgets/base",
          "model_name": "LayoutModel",
          "model_module_version": "1.2.0",
          "state": {
            "_model_module": "@jupyter-widgets/base",
            "_model_module_version": "1.2.0",
            "_model_name": "LayoutModel",
            "_view_count": null,
            "_view_module": "@jupyter-widgets/base",
            "_view_module_version": "1.2.0",
            "_view_name": "LayoutView",
            "align_content": null,
            "align_items": null,
            "align_self": null,
            "border": null,
            "bottom": null,
            "display": null,
            "flex": null,
            "flex_flow": null,
            "grid_area": null,
            "grid_auto_columns": null,
            "grid_auto_flow": null,
            "grid_auto_rows": null,
            "grid_column": null,
            "grid_gap": null,
            "grid_row": null,
            "grid_template_areas": null,
            "grid_template_columns": null,
            "grid_template_rows": null,
            "height": null,
            "justify_content": null,
            "justify_items": null,
            "left": null,
            "margin": null,
            "max_height": null,
            "max_width": null,
            "min_height": null,
            "min_width": null,
            "object_fit": null,
            "object_position": null,
            "order": null,
            "overflow": null,
            "overflow_x": null,
            "overflow_y": null,
            "padding": null,
            "right": null,
            "top": null,
            "visibility": null,
            "width": null
          }
        },
        "802530a8c67d411abe86f87937858aff": {
          "model_module": "@jupyter-widgets/controls",
          "model_name": "ProgressStyleModel",
          "model_module_version": "1.5.0",
          "state": {
            "_model_module": "@jupyter-widgets/controls",
            "_model_module_version": "1.5.0",
            "_model_name": "ProgressStyleModel",
            "_view_count": null,
            "_view_module": "@jupyter-widgets/base",
            "_view_module_version": "1.2.0",
            "_view_name": "StyleView",
            "bar_color": null,
            "description_width": ""
          }
        },
        "688482fe77bf4b389fc73762ddd8d972": {
          "model_module": "@jupyter-widgets/base",
          "model_name": "LayoutModel",
          "model_module_version": "1.2.0",
          "state": {
            "_model_module": "@jupyter-widgets/base",
            "_model_module_version": "1.2.0",
            "_model_name": "LayoutModel",
            "_view_count": null,
            "_view_module": "@jupyter-widgets/base",
            "_view_module_version": "1.2.0",
            "_view_name": "LayoutView",
            "align_content": null,
            "align_items": null,
            "align_self": null,
            "border": null,
            "bottom": null,
            "display": null,
            "flex": null,
            "flex_flow": null,
            "grid_area": null,
            "grid_auto_columns": null,
            "grid_auto_flow": null,
            "grid_auto_rows": null,
            "grid_column": null,
            "grid_gap": null,
            "grid_row": null,
            "grid_template_areas": null,
            "grid_template_columns": null,
            "grid_template_rows": null,
            "height": null,
            "justify_content": null,
            "justify_items": null,
            "left": null,
            "margin": null,
            "max_height": null,
            "max_width": null,
            "min_height": null,
            "min_width": null,
            "object_fit": null,
            "object_position": null,
            "order": null,
            "overflow": null,
            "overflow_x": null,
            "overflow_y": null,
            "padding": null,
            "right": null,
            "top": null,
            "visibility": null,
            "width": null
          }
        },
        "cebe70508efb473f84ba4238219e77be": {
          "model_module": "@jupyter-widgets/controls",
          "model_name": "DescriptionStyleModel",
          "model_module_version": "1.5.0",
          "state": {
            "_model_module": "@jupyter-widgets/controls",
            "_model_module_version": "1.5.0",
            "_model_name": "DescriptionStyleModel",
            "_view_count": null,
            "_view_module": "@jupyter-widgets/base",
            "_view_module_version": "1.2.0",
            "_view_name": "StyleView",
            "description_width": ""
          }
        }
      }
    }
  },
  "nbformat": 4,
  "nbformat_minor": 0
}